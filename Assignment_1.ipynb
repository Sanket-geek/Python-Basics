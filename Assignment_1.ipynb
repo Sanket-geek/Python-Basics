{
 "cells": [
  {
   "cell_type": "markdown",
   "id": "filled-provision",
   "metadata": {},
   "source": [
    "<div>\n",
    "<h1  style='background :yellow' > Python Basic - Assignment 1 </h1>\n",
    "</div>\n",
    "<hr>"
   ]
  },
  {
   "cell_type": "markdown",
   "id": "reflected-stevens",
   "metadata": {},
   "source": [
    "#### 1. What are the differences between operators and values in the following?\n",
    "<ul>\n",
    "    <li>*</li>\n",
    "    <li>'hello'</li>\n",
    "    <li>-87.8</li>\n",
    "    <li>-</li>\n",
    "    <li>/</li>\n",
    "    <li>+</li>\n",
    "    <li>6</li>\n",
    "</ul>\n",
    "\n",
    "Ans:\n",
    "\n",
    "<table>\n",
    "<tr><th>Operators </th><th>Values</th></tr>\n",
    "<tr><td>\n",
    "\n",
    "|Operator| Type |\n",
    "|--|--|\n",
    "|*|Multiplication|\n",
    "|/|Division|\n",
    "|-|Substraction|\n",
    "|+|Addition|\n",
    "\n",
    "</td><td>\n",
    "\n",
    "|Values|Types| \n",
    "|--|--|\n",
    "|'hello'|string|\n",
    "|-87.8|float|\n",
    "|6|int|\n",
    "|-|-|\n",
    "\n",
    "</td></tr> </table>\n",
    "<hr>"
   ]
  },
  {
   "cell_type": "markdown",
   "id": "centered-oregon",
   "metadata": {},
   "source": [
    "#### 2. What is the difference between string and variable? <br>\n",
    ">**spam** - variable. It is used to stores the values <br>\n",
    ">**'spam'** -  string - It is a data type\n",
    "---"
   ]
  },
  {
   "cell_type": "markdown",
   "id": "defensive-feeding",
   "metadata": {},
   "source": [
    "#### 3. Describe three different data forms.\n",
    "> + String: It is used to reperesent text data. It is assign using \"\" in python.\n",
    "> + Numeric: It consist of integer, float and complex numbers.\n",
    "> + Boolean: True and False\n",
    "---"
   ]
  },
  {
   "cell_type": "markdown",
   "id": "ongoing-manner",
   "metadata": {},
   "source": [
    "#### 4. What makes up an expression? What are the functions of all expressions?\n",
    "> Expression is made by combination of variables and/or numbers with an operator.<br>\n",
    "Eg: The following is a expression \n",
    "~~~python\n",
    "a = 1\n",
    "a + 1 == 2\n",
    "~~~\n",
    "---\n"
   ]
  },
  {
   "cell_type": "markdown",
   "id": "tested-description",
   "metadata": {},
   "source": [
    "#### 5. In this chapter, assignment statements such as spam = 10 were added. What's the difference between a declaration and an expression?\n",
    "> A varaible name spam is declared a value of 10. <br>\n",
    "**Declaration** is used to assing a name and a value to a varaible <br>\n",
    "**Expression** is used to evaluate the result.\n",
    "---"
   ]
  },
  {
   "cell_type": "markdown",
   "id": "optical-lexington",
   "metadata": {},
   "source": [
    "#### 6. After running the following code, what does the variable bacon contain?\n",
    "#### bacon = 22\n",
    "#### bacon + 1\n",
    "~~~python\n",
    "bacon = 22\n",
    "bacon + 1\n",
    "# Output: 23\n",
    "~~~\n",
    "---"
   ]
  },
  {
   "cell_type": "markdown",
   "id": "excellent-juvenile",
   "metadata": {},
   "source": [
    "#### 7. What should the values of the following two terms be?\n",
    "#### 'spam' + 'spamspam'\n",
    "> 'spamspamspam'\n",
    "#### 'spam' * 3\n",
    "> 'spamspamspam'\n",
    "---"
   ]
  },
  {
   "cell_type": "markdown",
   "id": "editorial-ebony",
   "metadata": {},
   "source": [
    "#### 8. Why is it that eggs is a true variable name but 100 is not?\n",
    "> A varaible name cannot be a pure integer or a name starting with integer.<br> It can consist of a combination of letters, digits and underscore.\n",
    "---"
   ]
  },
  {
   "cell_type": "markdown",
   "id": "parental-protein",
   "metadata": {},
   "source": [
    "#### 9. Which of the following three functions may be used to convert a value to an integer, a floating-point number, or a string?\n",
    "> Int/Float to String: **str()** <br>\n",
    "> Int to float : **float()** <br>\n",
    "> Float to int : **int()** <br>\n",
    "---"
   ]
  },
  {
   "cell_type": "markdown",
   "id": "familiar-shooting",
   "metadata": {},
   "source": [
    "#### 10. What is the error caused by this expression? What would you do about it? <br>'I have eaten ' + 99 + ' burritos.'\n",
    "> TypeError: can only concatenate str (not \"int\") to str <br>\n",
    "Convert the integer 99 into string\n",
    "```python\n",
    "'I have eaten ' + str(99) + ' burritos.'\n",
    "```\n"
   ]
  },
  {
   "cell_type": "markdown",
   "id": "interested-parker",
   "metadata": {},
   "source": [
    "***\n",
    "## Thank You"
   ]
  },
  {
   "cell_type": "code",
   "execution_count": null,
   "id": "outstanding-vault",
   "metadata": {},
   "outputs": [],
   "source": []
  }
 ],
 "metadata": {
  "kernelspec": {
   "display_name": "Python 3",
   "language": "python",
   "name": "python3"
  },
  "language_info": {
   "codemirror_mode": {
    "name": "ipython",
    "version": 3
   },
   "file_extension": ".py",
   "mimetype": "text/x-python",
   "name": "python",
   "nbconvert_exporter": "python",
   "pygments_lexer": "ipython3",
   "version": "3.9.1"
  }
 },
 "nbformat": 4,
 "nbformat_minor": 5
}
