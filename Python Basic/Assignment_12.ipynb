{
 "cells": [
  {
   "cell_type": "markdown",
   "id": "accompanied-field",
   "metadata": {},
   "source": [
    "# Python Basic - Assignment 12\n",
    "---"
   ]
  },
  {
   "cell_type": "markdown",
   "id": "hazardous-chart",
   "metadata": {},
   "source": [
    "#### 1. In what modes should the PdfFileReader() and PdfFileWriter() File objects will be opened?"
   ]
  },
  {
   "cell_type": "code",
   "execution_count": 1,
   "id": "several-custody",
   "metadata": {},
   "outputs": [],
   "source": [
    "# PdfFileReader() open in \"rb\"\n",
    "# PdfFileWriter() open in \"wb\""
   ]
  },
  {
   "cell_type": "markdown",
   "id": "identical-mileage",
   "metadata": {},
   "source": [
    "#### 2. From a PdfFileReader object, how do you get a Page object for page 5?"
   ]
  },
  {
   "cell_type": "code",
   "execution_count": 4,
   "id": "cardiovascular-gossip",
   "metadata": {
    "tags": []
   },
   "outputs": [],
   "source": [
    "import PyPDF2\n",
    "pdfFileObject = open('sample.pdf', 'rb')\n",
    "pdfReader = PyPDF2.PdfFileReader(pdfFileObject)\n",
    "pageObj = pdfReader.getPage(1)"
   ]
  },
  {
   "cell_type": "markdown",
   "id": "union-punishment",
   "metadata": {},
   "source": [
    "#### 3. What PdfFileReader variable stores the number of pages in the PDF document?"
   ]
  },
  {
   "cell_type": "code",
   "execution_count": 7,
   "id": "drawn-muscle",
   "metadata": {},
   "outputs": [
    {
     "data": {
      "text/plain": [
       "2"
      ]
     },
     "execution_count": 7,
     "metadata": {},
     "output_type": "execute_result"
    }
   ],
   "source": [
    "pdfFileObject = open('sample.pdf', 'rb')\n",
    "pdfReader = PyPDF2.PdfFileReader(pdfFileObject)\n",
    "numOfpages = pdfReader.getNumPages()\n",
    "numOfpages"
   ]
  },
  {
   "cell_type": "markdown",
   "id": "approved-rough",
   "metadata": {},
   "source": [
    "#### 4. If a PdfFileReader object’s PDF is encrypted with the password swordfish, what must you do before you can obtain Page objects from it?"
   ]
  },
  {
   "cell_type": "code",
   "execution_count": 8,
   "id": "damaged-registration",
   "metadata": {},
   "outputs": [],
   "source": [
    "from PyPDF2 import PdfFileReader\n",
    "file = PdfFileReader(\"sample.pdf\")\n",
    "password = \"xyz\"\n",
    "if file.isEncrypted:\n",
    "    file.decrypt(password)\n",
    "page = file.getPage(1)"
   ]
  },
  {
   "cell_type": "markdown",
   "id": "disciplinary-morning",
   "metadata": {},
   "source": [
    "#### 5. What methods do you use to rotate a page?"
   ]
  },
  {
   "cell_type": "code",
   "execution_count": 9,
   "id": "realistic-garlic",
   "metadata": {
    "collapsed": true,
    "jupyter": {
     "outputs_hidden": true
    },
    "tags": []
   },
   "outputs": [
    {
     "data": {
      "text/plain": [
       "{'/Type': '/Page',\n",
       " '/Parent': {'/Type': '/Pages',\n",
       "  '/Count': 2,\n",
       "  '/Kids': [IndirectObject(4, 0), IndirectObject(6, 0)]},\n",
       " '/Resources': {'/Font': {'/F1': {'/Type': '/Font',\n",
       "    '/Subtype': '/Type1',\n",
       "    '/Name': '/F1',\n",
       "    '/BaseFont': '/Helvetica',\n",
       "    '/Encoding': '/WinAnsiEncoding'}},\n",
       "  '/ProcSet': ['/PDF', '/Text']},\n",
       " '/MediaBox': [0, 0, 612, 792],\n",
       " '/Contents': {},\n",
       " '/Rotate': 270}"
      ]
     },
     "execution_count": 9,
     "metadata": {},
     "output_type": "execute_result"
    }
   ],
   "source": [
    "page = file.getPage(1)\n",
    "page.rotateClockwise(270)"
   ]
  },
  {
   "cell_type": "markdown",
   "id": "alpine-direction",
   "metadata": {},
   "source": [
    "#### 6. What is the difference between a Run object and a Paragraph object?"
   ]
  },
  {
   "cell_type": "code",
   "execution_count": 10,
   "id": "extra-member",
   "metadata": {},
   "outputs": [],
   "source": [
    "# A run is the object is inline content; text, pictures, and other items that are flowed between the block-item boundaries within a paragraph\n",
    "# A Paragrapgh is a block level object"
   ]
  },
  {
   "cell_type": "markdown",
   "id": "mediterranean-genius",
   "metadata": {},
   "source": [
    "#### 7. How do you obtain a list of Paragraph objects for a Document object that’s stored in a variable named doc?"
   ]
  },
  {
   "cell_type": "code",
   "execution_count": null,
   "id": "objective-growth",
   "metadata": {},
   "outputs": [],
   "source": [
    "doc.paragraphs()"
   ]
  },
  {
   "cell_type": "markdown",
   "id": "empty-kruger",
   "metadata": {},
   "source": [
    "#### 8. What type of object has bold, underline, italic, strike, and outline variables?"
   ]
  },
  {
   "cell_type": "code",
   "execution_count": 11,
   "id": "dangerous-teacher",
   "metadata": {},
   "outputs": [],
   "source": [
    "# paragraph object"
   ]
  },
  {
   "cell_type": "markdown",
   "id": "fresh-committee",
   "metadata": {},
   "source": [
    "#### 9. What is the difference between False, True, and None for the bold variable?"
   ]
  },
  {
   "cell_type": "code",
   "execution_count": null,
   "id": "radical-nickname",
   "metadata": {},
   "outputs": [],
   "source": []
  },
  {
   "cell_type": "markdown",
   "id": "metallic-favorite",
   "metadata": {},
   "source": [
    "#### 10. How do you create a Document object for a new Word document?"
   ]
  },
  {
   "cell_type": "code",
   "execution_count": 12,
   "id": "reverse-thirty",
   "metadata": {},
   "outputs": [],
   "source": [
    "import docx\n",
    "doc = docx.Document()"
   ]
  },
  {
   "cell_type": "markdown",
   "id": "unable-density",
   "metadata": {},
   "source": [
    "#### 11. How do you add a paragraph with the text &#39;Hello, there!&#39; to a Document object stored in a variable named doc?"
   ]
  },
  {
   "cell_type": "code",
   "execution_count": 13,
   "id": "scheduled-waters",
   "metadata": {},
   "outputs": [
    {
     "data": {
      "text/plain": [
       "<docx.text.paragraph.Paragraph at 0x132deb34880>"
      ]
     },
     "execution_count": 13,
     "metadata": {},
     "output_type": "execute_result"
    }
   ],
   "source": [
    "doc.add_paragraph('Hello, there!')"
   ]
  },
  {
   "cell_type": "markdown",
   "id": "extreme-hollow",
   "metadata": {},
   "source": [
    "#### 12. What integers represent the levels of headings available in Word documents?"
   ]
  },
  {
   "cell_type": "code",
   "execution_count": null,
   "id": "compliant-american",
   "metadata": {},
   "outputs": [],
   "source": [
    "# Integers in the range of 0-9"
   ]
  }
 ],
 "metadata": {
  "kernelspec": {
   "display_name": "Python 3",
   "language": "python",
   "name": "python3"
  },
  "language_info": {
   "codemirror_mode": {
    "name": "ipython",
    "version": 3
   },
   "file_extension": ".py",
   "mimetype": "text/x-python",
   "name": "python",
   "nbconvert_exporter": "python",
   "pygments_lexer": "ipython3",
   "version": "3.9.1"
  }
 },
 "nbformat": 4,
 "nbformat_minor": 5
}
