{
 "cells": [
  {
   "cell_type": "markdown",
   "id": "increased-amount",
   "metadata": {},
   "source": [
    "# Python Basic - Assignment 3\n",
    "---"
   ]
  },
  {
   "cell_type": "markdown",
   "id": "adjusted-consideration",
   "metadata": {},
   "source": [
    "#### 1. What are the benefits of including roles in the programmes?"
   ]
  },
  {
   "cell_type": "markdown",
   "id": "generous-wayne",
   "metadata": {},
   "source": [
    ">Hi"
   ]
  },
  {
   "cell_type": "markdown",
   "id": "caroline-navigation",
   "metadata": {},
   "source": [
    "---\n",
    "#### 2. When does the code in a function run: when it's specified or when it's called?"
   ]
  },
  {
   "cell_type": "code",
   "execution_count": 10,
   "id": "incorrect-flooring",
   "metadata": {},
   "outputs": [
    {
     "data": {
      "text/plain": [
       "<function __main__.output()>"
      ]
     },
     "execution_count": 10,
     "metadata": {},
     "output_type": "execute_result"
    }
   ],
   "source": [
    "#  The function runs when the it's called.\n",
    "# Eg:\n",
    "def output():\n",
    "    return \"Function is called\"\n",
    "\n",
    "# 1. Specified\n",
    "output"
   ]
  },
  {
   "cell_type": "code",
   "execution_count": 11,
   "id": "front-cigarette",
   "metadata": {},
   "outputs": [
    {
     "data": {
      "text/plain": [
       "'Function is called'"
      ]
     },
     "execution_count": 11,
     "metadata": {},
     "output_type": "execute_result"
    }
   ],
   "source": [
    "# Calling the function\n",
    "output()"
   ]
  },
  {
   "cell_type": "markdown",
   "id": "foster-bermuda",
   "metadata": {},
   "source": [
    "---\n",
    "#### 3. What statement causes a feature to be created?"
   ]
  },
  {
   "cell_type": "code",
   "execution_count": 41,
   "id": "unusual-membrane",
   "metadata": {},
   "outputs": [],
   "source": [
    "# import statment"
   ]
  },
  {
   "cell_type": "markdown",
   "id": "vertical-prior",
   "metadata": {},
   "source": [
    "#### 4. What is the distinction between a function and a call to a function?"
   ]
  },
  {
   "cell_type": "code",
   "execution_count": 12,
   "id": "together-burner",
   "metadata": {},
   "outputs": [
    {
     "data": {
      "text/plain": [
       "'Function is called'"
      ]
     },
     "execution_count": 12,
     "metadata": {},
     "output_type": "execute_result"
    }
   ],
   "source": [
    "# Function\n",
    "output\n",
    "\n",
    "# Calling a function\n",
    "output()"
   ]
  },
  {
   "cell_type": "markdown",
   "id": "ceramic-summary",
   "metadata": {},
   "source": [
    "---\n",
    "#### 5. In a Python application, how many global scopes are there? How many local scopes are there?"
   ]
  },
  {
   "cell_type": "code",
   "execution_count": 14,
   "id": "above-convert",
   "metadata": {},
   "outputs": [],
   "source": [
    "# The variables and function declared outside a function are in global scope.\n",
    "# The variables declared inside a function are in local scope."
   ]
  },
  {
   "cell_type": "markdown",
   "id": "sensitive-release",
   "metadata": {},
   "source": [
    "#### 6. When a function call returns, what happens to variables in the local scope?"
   ]
  },
  {
   "cell_type": "code",
   "execution_count": 24,
   "id": "express-organizer",
   "metadata": {},
   "outputs": [
    {
     "ename": "NameError",
     "evalue": "name 'local' is not defined",
     "output_type": "error",
     "traceback": [
      "\u001b[1;31m---------------------------------------------------------------------------\u001b[0m",
      "\u001b[1;31mNameError\u001b[0m                                 Traceback (most recent call last)",
      "\u001b[1;32m<ipython-input-24-2a4541ae29bb>\u001b[0m in \u001b[0;36m<module>\u001b[1;34m\u001b[0m\n\u001b[0;32m      6\u001b[0m \u001b[1;33m\u001b[0m\u001b[0m\n\u001b[0;32m      7\u001b[0m \u001b[1;31m# It's not available outside the function\u001b[0m\u001b[1;33m\u001b[0m\u001b[1;33m\u001b[0m\u001b[1;33m\u001b[0m\u001b[0m\n\u001b[1;32m----> 8\u001b[1;33m \u001b[0mprint\u001b[0m\u001b[1;33m(\u001b[0m\u001b[0mlocal\u001b[0m\u001b[1;33m)\u001b[0m\u001b[1;33m\u001b[0m\u001b[1;33m\u001b[0m\u001b[0m\n\u001b[0m",
      "\u001b[1;31mNameError\u001b[0m: name 'local' is not defined"
     ]
    }
   ],
   "source": [
    "# It no more available outisde th function.\n",
    "# Eg:\n",
    "def func():\n",
    "    local = 1\n",
    "    return local\n",
    "\n",
    "# It's not available outside the function \n",
    "print(local)"
   ]
  },
  {
   "cell_type": "markdown",
   "id": "contrary-group",
   "metadata": {},
   "source": [
    "---\n",
    "#### 7. What is the concept of a return value? Is it possible to have a return value in an expression?"
   ]
  },
  {
   "cell_type": "code",
   "execution_count": 45,
   "id": "established-fault",
   "metadata": {},
   "outputs": [],
   "source": [
    "# return is used to give an output when a function is called"
   ]
  },
  {
   "cell_type": "markdown",
   "id": "australian-language",
   "metadata": {},
   "source": [
    "#### 8. What is the return value of a call to a function that does not have a return statement?"
   ]
  },
  {
   "cell_type": "code",
   "execution_count": 20,
   "id": "amber-level",
   "metadata": {},
   "outputs": [
    {
     "name": "stdout",
     "output_type": "stream",
     "text": [
      "None\n"
     ]
    }
   ],
   "source": [
    "# It will return None\n",
    "# Eg:\n",
    "def add(a,b):\n",
    "    c = a + b\n",
    "    \n",
    "a = add(1,2)\n",
    "print(a)"
   ]
  },
  {
   "cell_type": "markdown",
   "id": "cultural-university",
   "metadata": {},
   "source": [
    "---\n",
    "#### 9. How do you make a function variable refer to the global variable?"
   ]
  },
  {
   "cell_type": "code",
   "execution_count": 32,
   "id": "adjusted-farming",
   "metadata": {},
   "outputs": [
    {
     "name": "stdout",
     "output_type": "stream",
     "text": [
      "global\n"
     ]
    }
   ],
   "source": [
    "# By declaring it global before assigning a value to it\n",
    "# Eg:\n",
    "\n",
    "def func():\n",
    "    global var\n",
    "    var = \"global\"\n",
    "\n",
    "func()\n",
    "\n",
    "print(var)"
   ]
  },
  {
   "cell_type": "markdown",
   "id": "twelve-christianity",
   "metadata": {},
   "source": [
    "---\n",
    "#### 10. What data form does None belong to?"
   ]
  },
  {
   "cell_type": "code",
   "execution_count": 35,
   "id": "endless-recommendation",
   "metadata": {},
   "outputs": [
    {
     "data": {
      "text/plain": [
       "NoneType"
      ]
     },
     "execution_count": 35,
     "metadata": {},
     "output_type": "execute_result"
    }
   ],
   "source": [
    "# It's an object of class NooneType\n",
    "type(None)"
   ]
  },
  {
   "cell_type": "markdown",
   "id": "yellow-library",
   "metadata": {},
   "source": [
    "---\n",
    "#### 11. What does the sentence import areallyourpetsnamederic do?"
   ]
  },
  {
   "cell_type": "code",
   "execution_count": 36,
   "id": "increasing-acceptance",
   "metadata": {},
   "outputs": [],
   "source": [
    "# Al the objects inisde the module can now be accessed."
   ]
  },
  {
   "cell_type": "markdown",
   "id": "green-atlantic",
   "metadata": {},
   "source": [
    "#### 12. If you had a bacon() feature in a spam module, what would you call it after importing spam?"
   ]
  },
  {
   "cell_type": "code",
   "execution_count": 37,
   "id": "experimental-breach",
   "metadata": {},
   "outputs": [],
   "source": [
    "# spam.bacon()"
   ]
  },
  {
   "cell_type": "markdown",
   "id": "mighty-kernel",
   "metadata": {},
   "source": [
    "---\n",
    "#### 13. What can you do to save a programme from crashing if it encounters an error?"
   ]
  },
  {
   "cell_type": "code",
   "execution_count": 38,
   "id": "casual-cookbook",
   "metadata": {},
   "outputs": [
    {
     "name": "stdout",
     "output_type": "stream",
     "text": [
      "Except block is excecuted\n"
     ]
    }
   ],
   "source": [
    "#  By using try except statment.\n",
    "# Eg\n",
    "try:\n",
    "    no_function()\n",
    "except:\n",
    "    print(\"Except block is excecuted\")"
   ]
  },
  {
   "cell_type": "markdown",
   "id": "scientific-harvey",
   "metadata": {},
   "source": [
    "---\n",
    "#### 14. What is the purpose of the try clause? What is the purpose of the except clause?"
   ]
  },
  {
   "cell_type": "code",
   "execution_count": 40,
   "id": "heated-introduction",
   "metadata": {},
   "outputs": [],
   "source": [
    "# The code inside the try block is executed first. In case it encounters an error, \n",
    "# the except block is executed"
   ]
  }
 ],
 "metadata": {
  "kernelspec": {
   "display_name": "Python 3",
   "language": "python",
   "name": "python3"
  },
  "language_info": {
   "codemirror_mode": {
    "name": "ipython",
    "version": 3
   },
   "file_extension": ".py",
   "mimetype": "text/x-python",
   "name": "python",
   "nbconvert_exporter": "python",
   "pygments_lexer": "ipython3",
   "version": "3.9.1"
  }
 },
 "nbformat": 4,
 "nbformat_minor": 5
}
