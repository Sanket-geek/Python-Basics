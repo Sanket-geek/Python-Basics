{
 "cells": [
  {
   "cell_type": "markdown",
   "id": "taken-shaft",
   "metadata": {},
   "source": [
    "# Python Basic - Assignment 14\n",
    "---"
   ]
  },
  {
   "cell_type": "markdown",
   "id": "stainless-geography",
   "metadata": {},
   "source": [
    "#### 1. What does RGBA stand for?"
   ]
  },
  {
   "cell_type": "code",
   "execution_count": 1,
   "id": "brutal-bundle",
   "metadata": {},
   "outputs": [],
   "source": [
    "# Ref Green Blue Alpha"
   ]
  },
  {
   "cell_type": "markdown",
   "id": "everyday-ocean",
   "metadata": {},
   "source": [
    "#### 2. From the Pillow module, how do you get the RGBA value of any images?"
   ]
  },
  {
   "cell_type": "code",
   "execution_count": 14,
   "id": "adjacent-deposit",
   "metadata": {},
   "outputs": [],
   "source": [
    "from PIL import Image\n",
    "img = Image.open('../../Sample_data/sample.jfif')\n",
    "rgba = img.convert(\"RGBA\")\n",
    "data = rgba.getdata()"
   ]
  },
  {
   "cell_type": "markdown",
   "id": "average-collector",
   "metadata": {},
   "source": [
    "#### 3. What is a box tuple, and how does it work?"
   ]
  },
  {
   "cell_type": "code",
   "execution_count": null,
   "id": "greater-salem",
   "metadata": {},
   "outputs": [],
   "source": []
  },
  {
   "cell_type": "markdown",
   "id": "alpha-skating",
   "metadata": {},
   "source": [
    "#### 4. Use your image and load in notebook then, How can you find out the width and height of an Image object?"
   ]
  },
  {
   "cell_type": "code",
   "execution_count": 15,
   "id": "furnished-swiss",
   "metadata": {},
   "outputs": [
    {
     "data": {
      "text/plain": [
       "(275, 183)"
      ]
     },
     "execution_count": 15,
     "metadata": {},
     "output_type": "execute_result"
    }
   ],
   "source": [
    "img = Image.open('../../Sample_data/sample.jfif')\n",
    "img.size"
   ]
  },
  {
   "cell_type": "markdown",
   "id": "modified-brand",
   "metadata": {},
   "source": [
    "#### 5. What method would you call to get Image object for a 100×100 image, excluding the lower-left quarter of it?"
   ]
  },
  {
   "cell_type": "code",
   "execution_count": 16,
   "id": "polish-muscle",
   "metadata": {},
   "outputs": [],
   "source": []
  },
  {
   "cell_type": "markdown",
   "id": "determined-palace",
   "metadata": {},
   "source": [
    "#### 6. After making changes to an Image object, how could you save it as an image file?"
   ]
  },
  {
   "cell_type": "code",
   "execution_count": 17,
   "id": "quiet-england",
   "metadata": {},
   "outputs": [],
   "source": [
    "# img.save(\"newimage.jpg\")"
   ]
  },
  {
   "cell_type": "markdown",
   "id": "horizontal-footwear",
   "metadata": {},
   "source": [
    "#### 7. What module contains Pillow’s shape-drawing code?"
   ]
  },
  {
   "cell_type": "code",
   "execution_count": null,
   "id": "written-queen",
   "metadata": {},
   "outputs": [],
   "source": [
    "# ImageDraw"
   ]
  },
  {
   "cell_type": "markdown",
   "id": "junior-watts",
   "metadata": {},
   "source": [
    "#### 8. Image objects do not have drawing methods. What kind of object does? How do you get this kind of object?"
   ]
  },
  {
   "cell_type": "code",
   "execution_count": 18,
   "id": "impaired-terror",
   "metadata": {},
   "outputs": [],
   "source": [
    "# ImageDaw.Draw()"
   ]
  },
  {
   "cell_type": "markdown",
   "id": "typical-provision",
   "metadata": {},
   "source": [
    "## Thanks You !"
   ]
  }
 ],
 "metadata": {
  "kernelspec": {
   "display_name": "Python 3",
   "language": "python",
   "name": "python3"
  },
  "language_info": {
   "codemirror_mode": {
    "name": "ipython",
    "version": 3
   },
   "file_extension": ".py",
   "mimetype": "text/x-python",
   "name": "python",
   "nbconvert_exporter": "python",
   "pygments_lexer": "ipython3",
   "version": "3.9.1"
  }
 },
 "nbformat": 4,
 "nbformat_minor": 5
}
