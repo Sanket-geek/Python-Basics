{
 "cells": [
  {
   "cell_type": "markdown",
   "id": "consistent-program",
   "metadata": {},
   "source": [
    "# Python Basic - Assignment 10\n",
    "---"
   ]
  },
  {
   "cell_type": "markdown",
   "id": "sought-consistency",
   "metadata": {},
   "source": [
    "#### 1. How do you distinguish between shutil.copy() and shutil.copytree()?"
   ]
  },
  {
   "cell_type": "code",
   "execution_count": 1,
   "id": "literary-latest",
   "metadata": {},
   "outputs": [],
   "source": [
    "# shutil.copy() will copy a single file, shutil.copytree() will copy an entire folder and every folder and file contained in it. "
   ]
  },
  {
   "cell_type": "markdown",
   "id": "quick-popularity",
   "metadata": {},
   "source": [
    "#### 2. What function is used to rename files??"
   ]
  },
  {
   "cell_type": "code",
   "execution_count": 2,
   "id": "commercial-yeast",
   "metadata": {},
   "outputs": [],
   "source": [
    "# shutil.move()\n",
    "# os.rename()"
   ]
  },
  {
   "cell_type": "markdown",
   "id": "biblical-penalty",
   "metadata": {},
   "source": [
    "#### 3. What is the difference between the delete functions in the send2trash and shutil modules?"
   ]
  },
  {
   "cell_type": "code",
   "execution_count": null,
   "id": "palestinian-publisher",
   "metadata": {},
   "outputs": [],
   "source": []
  },
  {
   "cell_type": "markdown",
   "id": "marine-trouble",
   "metadata": {},
   "source": [
    "#### 4.ZipFile objects have a close() method just like File objects’ close() method. What ZipFile method is equivalent to File objects’ open() method?"
   ]
  },
  {
   "cell_type": "code",
   "execution_count": null,
   "id": "exotic-puzzle",
   "metadata": {},
   "outputs": [],
   "source": [
    "# ZipFile.open()"
   ]
  },
  {
   "cell_type": "markdown",
   "id": "controlling-disposal",
   "metadata": {},
   "source": [
    "#### 5. Create a programme that searches a folder tree for files with a certain file extension (such as .pdf or .jpg). Copy these files from whatever location they are in to a new folder."
   ]
  },
  {
   "cell_type": "code",
   "execution_count": 50,
   "id": "automatic-devon",
   "metadata": {},
   "outputs": [],
   "source": [
    "import os, shutil\n",
    "\n",
    "def selectiveCopy(folder, extensions, destFolder):\n",
    "    folder = os.path.abspath(folder)\n",
    "    destFolder = os.path.abspath(destFolder)\n",
    "    print('Looking in', folder, 'for files with extensions of', ', '.join(extensions))\n",
    "    for foldername, subfolders, filenames in os.walk(folder):\n",
    "        print(f\"Folder name -- {foldername} \\n Subfolders -- {subfolders} \\n Filenames - {filenames}\")\n",
    "        for filename in filenames:\n",
    "            name, extension = os.path.splitext(filename)\n",
    "            print(f\"name - {name}, extension - {extension}\")\n",
    "            if extension in extensions:\n",
    "                print(f\"Found file with extension {extension}\")\n",
    "                fileAbsPath = foldername + os.path.sep + filename\n",
    "                print('Coping', fileAbsPath, 'to', destFolder)\n",
    "                shutil.copy(fileAbsPath, destFolder)"
   ]
  },
  {
   "cell_type": "code",
   "execution_count": null,
   "id": "toxic-guide",
   "metadata": {},
   "outputs": [],
   "source": []
  }
 ],
 "metadata": {
  "kernelspec": {
   "display_name": "Python 3",
   "language": "python",
   "name": "python3"
  },
  "language_info": {
   "codemirror_mode": {
    "name": "ipython",
    "version": 3
   },
   "file_extension": ".py",
   "mimetype": "text/x-python",
   "name": "python",
   "nbconvert_exporter": "python",
   "pygments_lexer": "ipython3",
   "version": "3.9.1"
  }
 },
 "nbformat": 4,
 "nbformat_minor": 5
}
