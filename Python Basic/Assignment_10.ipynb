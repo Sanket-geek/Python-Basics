{
 "cells": [
  {
   "cell_type": "markdown",
   "id": "dress-spirit",
   "metadata": {},
   "source": [
    "# Python Basic - Assignment 10\n",
    "---"
   ]
  },
  {
   "cell_type": "markdown",
   "id": "happy-official",
   "metadata": {},
   "source": [
    "#### 1. How do you distinguish between shutil.copy() and shutil.copytree()?"
   ]
  },
  {
   "cell_type": "code",
   "execution_count": 1,
   "id": "occupational-utility",
   "metadata": {},
   "outputs": [],
   "source": [
    "# shutil.copy() will copy a single file, shutil.copytree() will copy an entire folder and every folder and file contained in it. "
   ]
  },
  {
   "cell_type": "markdown",
   "id": "double-lesbian",
   "metadata": {},
   "source": [
    "#### 2. What function is used to rename files??"
   ]
  },
  {
   "cell_type": "code",
   "execution_count": 2,
   "id": "silent-mixer",
   "metadata": {},
   "outputs": [],
   "source": [
    "# shutil.move()\n",
    "# os.rename()"
   ]
  },
  {
   "cell_type": "markdown",
   "id": "piano-network",
   "metadata": {},
   "source": [
    "#### 3. What is the difference between the delete functions in the send2trash and shutil modules?"
   ]
  },
  {
   "cell_type": "code",
   "execution_count": null,
   "id": "administrative-vermont",
   "metadata": {},
   "outputs": [],
   "source": []
  },
  {
   "cell_type": "markdown",
   "id": "parallel-spending",
   "metadata": {},
   "source": [
    "#### 4.ZipFile objects have a close() method just like File objects’ close() method. What ZipFile method is equivalent to File objects’ open() method?"
   ]
  },
  {
   "cell_type": "code",
   "execution_count": null,
   "id": "surgical-closing",
   "metadata": {},
   "outputs": [],
   "source": [
    "# ZipFile.open()"
   ]
  },
  {
   "cell_type": "markdown",
   "id": "offshore-charlotte",
   "metadata": {},
   "source": [
    "#### 5. Create a programme that searches a folder tree for files with a certain file extension (such as .pdf or .jpg). Copy these files from whatever location they are in to a new folder."
   ]
  },
  {
   "cell_type": "code",
   "execution_count": 47,
   "id": "incredible-capability",
   "metadata": {},
   "outputs": [],
   "source": [
    "import os, shutil\n",
    "\n",
    "def selectiveCopy(folder, extensions, destFolder):\n",
    "    folder = os.path.abspath(folder)\n",
    "    destFolder = os.path.abspath(destFolder)\n",
    "    print('Looking in', folder, 'for files with extensions of', ', '.join(extensions))\n",
    "    for foldername, subfolders, filenames in os.walk(folder):\n",
    "        print(f\"Folder name -- {foldername} \\n Subfolders -- {subfolders} \\n Filenames - {filenames}\")\n",
    "        for filename in filenames:\n",
    "            name, extension = os.path.splitext(filename)\n",
    "            print(f\"name - {name}, extension - {extension}\")\n",
    "            if extension in extensions:\n",
    "                print(f\"Found file with extension {extension}\")\n",
    "                fileAbsPath = foldername + os.path.sep + filename\n",
    "                print('Coping', fileAbsPath, 'to', destFolder)\n",
    "                shutil.copy(fileAbsPath, destFolder)\n",
    "\n"
   ]
  },
  {
   "cell_type": "code",
   "execution_count": 48,
   "id": "metric-delicious",
   "metadata": {},
   "outputs": [
    {
     "name": "stdout",
     "output_type": "stream",
     "text": [
      "Looking in C:\\Users\\nawal\\Desktop\\iNeuron\\Assignments\\Python Basic\\New for files with extensions of .xlsx\n",
      "Folder name -- C:\\Users\\nawal\\Desktop\\iNeuron\\Assignments\\Python Basic\\New \n",
      " Subfolders -- ['.ipynb_checkpoints', 'Dest', 'Folder-1'] \n",
      " Filenames - ['Excel.xlsx', 'New Microsoft PowerPoint Presentation.pptx', 'New Microsoft Word Document.docx', 'New Text Document.txt']\n",
      "name - Excel, extension - .xlsx\n",
      "Found file with extension .xlsx\n",
      "Coping C:\\Users\\nawal\\Desktop\\iNeuron\\Assignments\\Python Basic\\New\\Excel.xlsx to C:\\Users\\nawal\\Desktop\\iNeuron\\Assignments\\Python Basic\\New\\Dest\n",
      "name - New Microsoft PowerPoint Presentation, extension - .pptx\n",
      "name - New Microsoft Word Document, extension - .docx\n",
      "name - New Text Document, extension - .txt\n",
      "Folder name -- C:\\Users\\nawal\\Desktop\\iNeuron\\Assignments\\Python Basic\\New\\.ipynb_checkpoints \n",
      " Subfolders -- [] \n",
      " Filenames - []\n",
      "Folder name -- C:\\Users\\nawal\\Desktop\\iNeuron\\Assignments\\Python Basic\\New\\Dest \n",
      " Subfolders -- ['.ipynb_checkpoints'] \n",
      " Filenames - ['Excel.xlsx']\n",
      "name - Excel, extension - .xlsx\n",
      "Found file with extension .xlsx\n",
      "Coping C:\\Users\\nawal\\Desktop\\iNeuron\\Assignments\\Python Basic\\New\\Dest\\Excel.xlsx to C:\\Users\\nawal\\Desktop\\iNeuron\\Assignments\\Python Basic\\New\\Dest\n"
     ]
    },
    {
     "ename": "SameFileError",
     "evalue": "'C:\\\\Users\\\\nawal\\\\Desktop\\\\iNeuron\\\\Assignments\\\\Python Basic\\\\New\\\\Dest\\\\Excel.xlsx' and 'C:\\\\Users\\\\nawal\\\\Desktop\\\\iNeuron\\\\Assignments\\\\Python Basic\\\\New\\\\Dest\\\\Excel.xlsx' are the same file",
     "output_type": "error",
     "traceback": [
      "\u001b[1;31m---------------------------------------------------------------------------\u001b[0m",
      "\u001b[1;31mSameFileError\u001b[0m                             Traceback (most recent call last)",
      "\u001b[1;32m<ipython-input-48-64b2666ea454>\u001b[0m in \u001b[0;36m<module>\u001b[1;34m\u001b[0m\n\u001b[0;32m      2\u001b[0m \u001b[0mfolder\u001b[0m \u001b[1;33m=\u001b[0m \u001b[1;34m'New'\u001b[0m\u001b[1;33m\u001b[0m\u001b[1;33m\u001b[0m\u001b[0m\n\u001b[0;32m      3\u001b[0m \u001b[0mdestFolder\u001b[0m \u001b[1;33m=\u001b[0m \u001b[1;34m'New/Dest'\u001b[0m\u001b[1;33m\u001b[0m\u001b[1;33m\u001b[0m\u001b[0m\n\u001b[1;32m----> 4\u001b[1;33m \u001b[0mselectiveCopy\u001b[0m\u001b[1;33m(\u001b[0m\u001b[0mfolder\u001b[0m\u001b[1;33m,\u001b[0m \u001b[0mextensions\u001b[0m\u001b[1;33m,\u001b[0m \u001b[0mdestFolder\u001b[0m\u001b[1;33m)\u001b[0m\u001b[1;33m\u001b[0m\u001b[1;33m\u001b[0m\u001b[0m\n\u001b[0m",
      "\u001b[1;32m<ipython-input-47-b7e963041dc3>\u001b[0m in \u001b[0;36mselectiveCopy\u001b[1;34m(folder, extensions, destFolder)\u001b[0m\n\u001b[0;32m     14\u001b[0m                 \u001b[0mfileAbsPath\u001b[0m \u001b[1;33m=\u001b[0m \u001b[0mfoldername\u001b[0m \u001b[1;33m+\u001b[0m \u001b[0mos\u001b[0m\u001b[1;33m.\u001b[0m\u001b[0mpath\u001b[0m\u001b[1;33m.\u001b[0m\u001b[0msep\u001b[0m \u001b[1;33m+\u001b[0m \u001b[0mfilename\u001b[0m\u001b[1;33m\u001b[0m\u001b[1;33m\u001b[0m\u001b[0m\n\u001b[0;32m     15\u001b[0m                 \u001b[0mprint\u001b[0m\u001b[1;33m(\u001b[0m\u001b[1;34m'Coping'\u001b[0m\u001b[1;33m,\u001b[0m \u001b[0mfileAbsPath\u001b[0m\u001b[1;33m,\u001b[0m \u001b[1;34m'to'\u001b[0m\u001b[1;33m,\u001b[0m \u001b[0mdestFolder\u001b[0m\u001b[1;33m)\u001b[0m\u001b[1;33m\u001b[0m\u001b[1;33m\u001b[0m\u001b[0m\n\u001b[1;32m---> 16\u001b[1;33m                 \u001b[0mshutil\u001b[0m\u001b[1;33m.\u001b[0m\u001b[0mcopy\u001b[0m\u001b[1;33m(\u001b[0m\u001b[0mfileAbsPath\u001b[0m\u001b[1;33m,\u001b[0m \u001b[0mdestFolder\u001b[0m\u001b[1;33m)\u001b[0m\u001b[1;33m\u001b[0m\u001b[1;33m\u001b[0m\u001b[0m\n\u001b[0m\u001b[0;32m     17\u001b[0m \u001b[1;33m\u001b[0m\u001b[0m\n",
      "\u001b[1;32mc:\\python\\lib\\shutil.py\u001b[0m in \u001b[0;36mcopy\u001b[1;34m(src, dst, follow_symlinks)\u001b[0m\n\u001b[0;32m    416\u001b[0m     \u001b[1;32mif\u001b[0m \u001b[0mos\u001b[0m\u001b[1;33m.\u001b[0m\u001b[0mpath\u001b[0m\u001b[1;33m.\u001b[0m\u001b[0misdir\u001b[0m\u001b[1;33m(\u001b[0m\u001b[0mdst\u001b[0m\u001b[1;33m)\u001b[0m\u001b[1;33m:\u001b[0m\u001b[1;33m\u001b[0m\u001b[1;33m\u001b[0m\u001b[0m\n\u001b[0;32m    417\u001b[0m         \u001b[0mdst\u001b[0m \u001b[1;33m=\u001b[0m \u001b[0mos\u001b[0m\u001b[1;33m.\u001b[0m\u001b[0mpath\u001b[0m\u001b[1;33m.\u001b[0m\u001b[0mjoin\u001b[0m\u001b[1;33m(\u001b[0m\u001b[0mdst\u001b[0m\u001b[1;33m,\u001b[0m \u001b[0mos\u001b[0m\u001b[1;33m.\u001b[0m\u001b[0mpath\u001b[0m\u001b[1;33m.\u001b[0m\u001b[0mbasename\u001b[0m\u001b[1;33m(\u001b[0m\u001b[0msrc\u001b[0m\u001b[1;33m)\u001b[0m\u001b[1;33m)\u001b[0m\u001b[1;33m\u001b[0m\u001b[1;33m\u001b[0m\u001b[0m\n\u001b[1;32m--> 418\u001b[1;33m     \u001b[0mcopyfile\u001b[0m\u001b[1;33m(\u001b[0m\u001b[0msrc\u001b[0m\u001b[1;33m,\u001b[0m \u001b[0mdst\u001b[0m\u001b[1;33m,\u001b[0m \u001b[0mfollow_symlinks\u001b[0m\u001b[1;33m=\u001b[0m\u001b[0mfollow_symlinks\u001b[0m\u001b[1;33m)\u001b[0m\u001b[1;33m\u001b[0m\u001b[1;33m\u001b[0m\u001b[0m\n\u001b[0m\u001b[0;32m    419\u001b[0m     \u001b[0mcopymode\u001b[0m\u001b[1;33m(\u001b[0m\u001b[0msrc\u001b[0m\u001b[1;33m,\u001b[0m \u001b[0mdst\u001b[0m\u001b[1;33m,\u001b[0m \u001b[0mfollow_symlinks\u001b[0m\u001b[1;33m=\u001b[0m\u001b[0mfollow_symlinks\u001b[0m\u001b[1;33m)\u001b[0m\u001b[1;33m\u001b[0m\u001b[1;33m\u001b[0m\u001b[0m\n\u001b[0;32m    420\u001b[0m     \u001b[1;32mreturn\u001b[0m \u001b[0mdst\u001b[0m\u001b[1;33m\u001b[0m\u001b[1;33m\u001b[0m\u001b[0m\n",
      "\u001b[1;32mc:\\python\\lib\\shutil.py\u001b[0m in \u001b[0;36mcopyfile\u001b[1;34m(src, dst, follow_symlinks)\u001b[0m\n\u001b[0;32m    242\u001b[0m \u001b[1;33m\u001b[0m\u001b[0m\n\u001b[0;32m    243\u001b[0m     \u001b[1;32mif\u001b[0m \u001b[0m_samefile\u001b[0m\u001b[1;33m(\u001b[0m\u001b[0msrc\u001b[0m\u001b[1;33m,\u001b[0m \u001b[0mdst\u001b[0m\u001b[1;33m)\u001b[0m\u001b[1;33m:\u001b[0m\u001b[1;33m\u001b[0m\u001b[1;33m\u001b[0m\u001b[0m\n\u001b[1;32m--> 244\u001b[1;33m         \u001b[1;32mraise\u001b[0m \u001b[0mSameFileError\u001b[0m\u001b[1;33m(\u001b[0m\u001b[1;34m\"{!r} and {!r} are the same file\"\u001b[0m\u001b[1;33m.\u001b[0m\u001b[0mformat\u001b[0m\u001b[1;33m(\u001b[0m\u001b[0msrc\u001b[0m\u001b[1;33m,\u001b[0m \u001b[0mdst\u001b[0m\u001b[1;33m)\u001b[0m\u001b[1;33m)\u001b[0m\u001b[1;33m\u001b[0m\u001b[1;33m\u001b[0m\u001b[0m\n\u001b[0m\u001b[0;32m    245\u001b[0m \u001b[1;33m\u001b[0m\u001b[0m\n\u001b[0;32m    246\u001b[0m     \u001b[0mfile_size\u001b[0m \u001b[1;33m=\u001b[0m \u001b[1;36m0\u001b[0m\u001b[1;33m\u001b[0m\u001b[1;33m\u001b[0m\u001b[0m\n",
      "\u001b[1;31mSameFileError\u001b[0m: 'C:\\\\Users\\\\nawal\\\\Desktop\\\\iNeuron\\\\Assignments\\\\Python Basic\\\\New\\\\Dest\\\\Excel.xlsx' and 'C:\\\\Users\\\\nawal\\\\Desktop\\\\iNeuron\\\\Assignments\\\\Python Basic\\\\New\\\\Dest\\\\Excel.xlsx' are the same file"
     ]
    }
   ],
   "source": [
    "extensions = ['.xlsx']\n",
    "folder = 'New'\n",
    "destFolder = 'New/Dest'\n",
    "selectiveCopy(folder, extensions, destFolder)"
   ]
  },
  {
   "cell_type": "code",
   "execution_count": null,
   "id": "clinical-universe",
   "metadata": {},
   "outputs": [],
   "source": []
  }
 ],
 "metadata": {
  "kernelspec": {
   "display_name": "Python 3",
   "language": "python",
   "name": "python3"
  },
  "language_info": {
   "codemirror_mode": {
    "name": "ipython",
    "version": 3
   },
   "file_extension": ".py",
   "mimetype": "text/x-python",
   "name": "python",
   "nbconvert_exporter": "python",
   "pygments_lexer": "ipython3",
   "version": "3.9.1"
  }
 },
 "nbformat": 4,
 "nbformat_minor": 5
}
