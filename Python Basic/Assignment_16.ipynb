{
 "cells": [
  {
   "cell_type": "markdown",
   "id": "alpha-corporation",
   "metadata": {},
   "source": [
    "# Python Basic - Assignment 16\n",
    "---"
   ]
  },
  {
   "cell_type": "markdown",
   "id": "spectacular-failing",
   "metadata": {},
   "source": [
    "#### 1. Create a list called years_list, starting with the year of your birth, and each year thereafter until the year of your fifth birthday. For example, if you were born in 1980. the list would be years_list = [1980, 1981, 1982, 1983, 1984, 1985]."
   ]
  },
  {
   "cell_type": "code",
   "execution_count": 1,
   "id": "thorough-albania",
   "metadata": {},
   "outputs": [],
   "source": [
    "years_list = [1996, 1997, 1998, 1999, 2000, 2001]"
   ]
  },
  {
   "cell_type": "markdown",
   "id": "occasional-royal",
   "metadata": {},
   "source": [
    "#### 2. In which year in years_list was your third birthday? Remember, you were 0 years of age for your first year."
   ]
  },
  {
   "cell_type": "code",
   "execution_count": 2,
   "id": "baking-watch",
   "metadata": {},
   "outputs": [
    {
     "data": {
      "text/plain": [
       "1999"
      ]
     },
     "execution_count": 2,
     "metadata": {},
     "output_type": "execute_result"
    }
   ],
   "source": [
    "years_list[3]"
   ]
  },
  {
   "cell_type": "markdown",
   "id": "native-healthcare",
   "metadata": {},
   "source": [
    "#### 3.In the years list, which year were you the oldest?"
   ]
  },
  {
   "cell_type": "code",
   "execution_count": 3,
   "id": "statewide-methodology",
   "metadata": {},
   "outputs": [
    {
     "data": {
      "text/plain": [
       "2001"
      ]
     },
     "execution_count": 3,
     "metadata": {},
     "output_type": "execute_result"
    }
   ],
   "source": [
    "years_list[-1]"
   ]
  },
  {
   "cell_type": "markdown",
   "id": "endangered-singles",
   "metadata": {},
   "source": [
    "#### 4. Make a list called things with these three strings as elements: \"mozzarella\",\"cinderella\",\"salmonella\""
   ]
  },
  {
   "cell_type": "code",
   "execution_count": 4,
   "id": "turkish-centre",
   "metadata": {},
   "outputs": [],
   "source": [
    "things = [\"mozzarella\",\"cinderella\",\"salmonella\"]"
   ]
  },
  {
   "cell_type": "markdown",
   "id": "fitted-calculation",
   "metadata": {},
   "source": [
    "#### 5. Capitalize the element in things that refers to a person and then print the list. Did it change the element in the list?"
   ]
  },
  {
   "cell_type": "code",
   "execution_count": 5,
   "id": "grave-light",
   "metadata": {},
   "outputs": [],
   "source": [
    "# Insufficient information"
   ]
  },
  {
   "cell_type": "markdown",
   "id": "missing-republican",
   "metadata": {},
   "source": [
    "#### 6. Make a surprise list with the elements \"Groucho\",\"Chico\" and \"Harpo.\""
   ]
  },
  {
   "cell_type": "code",
   "execution_count": 6,
   "id": "dominant-relief",
   "metadata": {},
   "outputs": [],
   "source": [
    "surprise = [\"Groucho\",\"Chico\", \"Harpo\"]"
   ]
  },
  {
   "cell_type": "markdown",
   "id": "tutorial-means",
   "metadata": {},
   "source": [
    "#### 7. Lowercase the last element of the surprise list, reverse it, and then capitalize it."
   ]
  },
  {
   "cell_type": "code",
   "execution_count": 25,
   "id": "agreed-young",
   "metadata": {},
   "outputs": [
    {
     "data": {
      "text/plain": [
       "'Oprah'"
      ]
     },
     "execution_count": 25,
     "metadata": {},
     "output_type": "execute_result"
    }
   ],
   "source": [
    "# Lowercase\n",
    "surprise[-1] = surprise[-1].lower()\n",
    "\n",
    "# Reverse\n",
    "string = ''\n",
    "for i in surprise[-1]:\n",
    "    string = i + string\n",
    "    \n",
    "# Capitalise\n",
    "surprise[-1] = string.capitalize()\n",
    "surprise[-1]"
   ]
  },
  {
   "cell_type": "markdown",
   "id": "endless-terrace",
   "metadata": {},
   "source": [
    "#### 8. Make an English-to-French dictionary called e2f and print it. Here are your starter words: dog is chien, cat is chat, and walrus is morse."
   ]
  },
  {
   "cell_type": "code",
   "execution_count": 27,
   "id": "automotive-argument",
   "metadata": {},
   "outputs": [],
   "source": [
    "e2f = {\n",
    "    'dog':'chien',\n",
    "    'cat': 'chat',\n",
    "    'walrus': 'morse'\n",
    "}"
   ]
  },
  {
   "cell_type": "markdown",
   "id": "modified-blame",
   "metadata": {},
   "source": [
    "#### 9. Write the French word for walrus in your three-word dictionary e2f."
   ]
  },
  {
   "cell_type": "code",
   "execution_count": 28,
   "id": "contrary-senate",
   "metadata": {},
   "outputs": [
    {
     "data": {
      "text/plain": [
       "'morse'"
      ]
     },
     "execution_count": 28,
     "metadata": {},
     "output_type": "execute_result"
    }
   ],
   "source": [
    "e2f['walrus']"
   ]
  },
  {
   "cell_type": "markdown",
   "id": "ongoing-orbit",
   "metadata": {},
   "source": [
    "#### 10. Make a French-to-English dictionary called f2e from e2f. Use the items method."
   ]
  },
  {
   "cell_type": "code",
   "execution_count": 30,
   "id": "looking-franklin",
   "metadata": {},
   "outputs": [
    {
     "data": {
      "text/plain": [
       "{'chien': 'dog', 'chat': 'cat', 'morse': 'walrus'}"
      ]
     },
     "execution_count": 30,
     "metadata": {},
     "output_type": "execute_result"
    }
   ],
   "source": [
    "f2e = { v:k for k, v in e2f.items()}\n",
    "f2e"
   ]
  },
  {
   "cell_type": "markdown",
   "id": "cellular-cycle",
   "metadata": {},
   "source": [
    "#### 11. Print the English version of the French word chien using f2e."
   ]
  },
  {
   "cell_type": "code",
   "execution_count": 31,
   "id": "outstanding-arkansas",
   "metadata": {},
   "outputs": [
    {
     "data": {
      "text/plain": [
       "dict_values(['dog', 'cat', 'walrus'])"
      ]
     },
     "execution_count": 31,
     "metadata": {},
     "output_type": "execute_result"
    }
   ],
   "source": [
    "f2e.values()"
   ]
  },
  {
   "cell_type": "markdown",
   "id": "worldwide-lightweight",
   "metadata": {},
   "source": [
    "#### 12. Make and print a set of English words from the keys in e2f."
   ]
  },
  {
   "cell_type": "code",
   "execution_count": 32,
   "id": "timely-being",
   "metadata": {},
   "outputs": [
    {
     "data": {
      "text/plain": [
       "dict_keys(['dog', 'cat', 'walrus'])"
      ]
     },
     "execution_count": 32,
     "metadata": {},
     "output_type": "execute_result"
    }
   ],
   "source": [
    "e2f.keys()"
   ]
  },
  {
   "cell_type": "markdown",
   "id": "otherwise-delivery",
   "metadata": {},
   "source": [
    "#### 13. Make a multilevel dictionary called life. Use these strings for the topmost keys: &#39;animals&#39;, &#39;plants&#39;, and &#39;other&#39;. Make the &#39;animals&#39; key refer to another dictionary with the keys &#39;cats&#39;, &#39;octopi&#39;, and &#39;emus&#39;. Make the &#39;cats&#39; key refer to a list of strings with the values &#39;Henri&#39;, &#39;Grumpy&#39;, and &#39;Lucy&#39;.\n",
    "#### Make all the other keys refer to empty dictionaries."
   ]
  },
  {
   "cell_type": "code",
   "execution_count": 35,
   "id": "static-click",
   "metadata": {},
   "outputs": [
    {
     "name": "stdout",
     "output_type": "stream",
     "text": [
      "{'animals': {'cats': ['Henri', 'Grumpy', 'Lucy'], 'octopi': {}, 'emus': {}}, 'plants': {}, 'other': {}}\n"
     ]
    }
   ],
   "source": [
    "life = {\n",
    "    'animals': {\n",
    "        'cats': ['Henri', 'Grumpy', 'Lucy'],\n",
    "        'octopi': {},\n",
    "        'emus': {}\n",
    "    },\n",
    "    'plants': {},\n",
    "    'other': {},\n",
    "}\n",
    "\n",
    "print(life)"
   ]
  },
  {
   "cell_type": "markdown",
   "id": "sunset-gothic",
   "metadata": {},
   "source": [
    "#### 14. Print the top-level keys of life."
   ]
  },
  {
   "cell_type": "code",
   "execution_count": 36,
   "id": "proved-vitamin",
   "metadata": {},
   "outputs": [
    {
     "data": {
      "text/plain": [
       "dict_keys(['animals', 'plants', 'other'])"
      ]
     },
     "execution_count": 36,
     "metadata": {},
     "output_type": "execute_result"
    }
   ],
   "source": [
    "life.keys()"
   ]
  },
  {
   "cell_type": "markdown",
   "id": "metropolitan-freight",
   "metadata": {},
   "source": [
    "#### 15. Print the keys for life[&#39;animals&#39;]."
   ]
  },
  {
   "cell_type": "code",
   "execution_count": 37,
   "id": "chemical-journal",
   "metadata": {},
   "outputs": [
    {
     "data": {
      "text/plain": [
       "dict_keys(['cats', 'octopi', 'emus'])"
      ]
     },
     "execution_count": 37,
     "metadata": {},
     "output_type": "execute_result"
    }
   ],
   "source": [
    "life['animals'].keys()"
   ]
  },
  {
   "cell_type": "markdown",
   "id": "precious-course",
   "metadata": {},
   "source": [
    "#### 16. Print the values for life[&#39;animals&#39;][&#39;cats&#39;]"
   ]
  },
  {
   "cell_type": "code",
   "execution_count": 38,
   "id": "single-importance",
   "metadata": {},
   "outputs": [
    {
     "name": "stdout",
     "output_type": "stream",
     "text": [
      "['Henri', 'Grumpy', 'Lucy']\n"
     ]
    }
   ],
   "source": [
    "print(life['animals']['cats'])"
   ]
  },
  {
   "cell_type": "markdown",
   "id": "architectural-journalist",
   "metadata": {},
   "source": [
    "## Thank You"
   ]
  }
 ],
 "metadata": {
  "kernelspec": {
   "display_name": "Python 3",
   "language": "python",
   "name": "python3"
  },
  "language_info": {
   "codemirror_mode": {
    "name": "ipython",
    "version": 3
   },
   "file_extension": ".py",
   "mimetype": "text/x-python",
   "name": "python",
   "nbconvert_exporter": "python",
   "pygments_lexer": "ipython3",
   "version": "3.9.1"
  }
 },
 "nbformat": 4,
 "nbformat_minor": 5
}
