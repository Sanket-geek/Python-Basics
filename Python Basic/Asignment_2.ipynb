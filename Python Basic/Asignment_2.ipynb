{
 "cells": [
  {
   "cell_type": "markdown",
   "id": "given-ethnic",
   "metadata": {},
   "source": [
    "# Python Basic - Assignment 2"
   ]
  },
  {
   "cell_type": "markdown",
   "id": "charged-discount",
   "metadata": {},
   "source": [
    "---\n",
    "#### 1. What are the Boolean data type's two values? How do you go about writing them?"
   ]
  },
  {
   "cell_type": "markdown",
   "id": "rural-effectiveness",
   "metadata": {},
   "source": [
    "The boolean data type's values are True and False"
   ]
  },
  {
   "cell_type": "code",
   "execution_count": 2,
   "id": "original-division",
   "metadata": {},
   "outputs": [],
   "source": [
    "# We write them as\n",
    "# True\n",
    "# False"
   ]
  },
  {
   "cell_type": "markdown",
   "id": "mobile-recovery",
   "metadata": {},
   "source": [
    "---\n",
    "#### 2. What are the three different types of Boolean operators?"
   ]
  },
  {
   "cell_type": "markdown",
   "id": "particular-parallel",
   "metadata": {},
   "source": [
    "and\n",
    "or\n",
    "not"
   ]
  },
  {
   "cell_type": "markdown",
   "id": "stretch-customs",
   "metadata": {},
   "source": [
    "---\n",
    "#### 3. Make a list of each Boolean operator's truth tables (i.e. every possible combination of Boolean values for the operator and what it evaluate ).\n"
   ]
  },
  {
   "cell_type": "markdown",
   "id": "cardiovascular-swedish",
   "metadata": {},
   "source": [
    "##### \"and\" operator"
   ]
  },
  {
   "cell_type": "code",
   "execution_count": 4,
   "id": "parallel-trace",
   "metadata": {},
   "outputs": [
    {
     "data": {
      "text/plain": [
       "False"
      ]
     },
     "execution_count": 4,
     "metadata": {},
     "output_type": "execute_result"
    }
   ],
   "source": [
    "True and False"
   ]
  },
  {
   "cell_type": "code",
   "execution_count": 5,
   "id": "sunrise-actress",
   "metadata": {},
   "outputs": [
    {
     "data": {
      "text/plain": [
       "True"
      ]
     },
     "execution_count": 5,
     "metadata": {},
     "output_type": "execute_result"
    }
   ],
   "source": [
    "True and True"
   ]
  },
  {
   "cell_type": "code",
   "execution_count": 6,
   "id": "prerequisite-biotechnology",
   "metadata": {},
   "outputs": [
    {
     "data": {
      "text/plain": [
       "False"
      ]
     },
     "execution_count": 6,
     "metadata": {},
     "output_type": "execute_result"
    }
   ],
   "source": [
    "False and False"
   ]
  },
  {
   "cell_type": "markdown",
   "id": "emerging-necklace",
   "metadata": {},
   "source": [
    "#### \"or\" operator"
   ]
  },
  {
   "cell_type": "code",
   "execution_count": 7,
   "id": "outside-bronze",
   "metadata": {},
   "outputs": [
    {
     "data": {
      "text/plain": [
       "True"
      ]
     },
     "execution_count": 7,
     "metadata": {},
     "output_type": "execute_result"
    }
   ],
   "source": [
    "True or True"
   ]
  },
  {
   "cell_type": "code",
   "execution_count": 8,
   "id": "affiliated-communications",
   "metadata": {},
   "outputs": [
    {
     "data": {
      "text/plain": [
       "True"
      ]
     },
     "execution_count": 8,
     "metadata": {},
     "output_type": "execute_result"
    }
   ],
   "source": [
    "False or True"
   ]
  },
  {
   "cell_type": "code",
   "execution_count": 9,
   "id": "placed-valuation",
   "metadata": {},
   "outputs": [
    {
     "data": {
      "text/plain": [
       "False"
      ]
     },
     "execution_count": 9,
     "metadata": {},
     "output_type": "execute_result"
    }
   ],
   "source": [
    "False or False"
   ]
  },
  {
   "cell_type": "markdown",
   "id": "third-accommodation",
   "metadata": {},
   "source": [
    "##### \"not\" operator"
   ]
  },
  {
   "cell_type": "code",
   "execution_count": 10,
   "id": "eligible-fancy",
   "metadata": {},
   "outputs": [
    {
     "data": {
      "text/plain": [
       "True"
      ]
     },
     "execution_count": 10,
     "metadata": {},
     "output_type": "execute_result"
    }
   ],
   "source": [
    "not False"
   ]
  },
  {
   "cell_type": "code",
   "execution_count": 11,
   "id": "studied-inside",
   "metadata": {},
   "outputs": [
    {
     "data": {
      "text/plain": [
       "False"
      ]
     },
     "execution_count": 11,
     "metadata": {},
     "output_type": "execute_result"
    }
   ],
   "source": [
    "not True"
   ]
  },
  {
   "cell_type": "markdown",
   "id": "steady-frequency",
   "metadata": {},
   "source": [
    "---\n",
    "#### 4. What are the values of the following expressions?"
   ]
  },
  {
   "cell_type": "code",
   "execution_count": 12,
   "id": "circular-marine",
   "metadata": {},
   "outputs": [
    {
     "data": {
      "text/plain": [
       "False"
      ]
     },
     "execution_count": 12,
     "metadata": {},
     "output_type": "execute_result"
    }
   ],
   "source": [
    "(5 > 4) and (3 == 5)"
   ]
  },
  {
   "cell_type": "code",
   "execution_count": 13,
   "id": "concerned-touch",
   "metadata": {},
   "outputs": [
    {
     "data": {
      "text/plain": [
       "False"
      ]
     },
     "execution_count": 13,
     "metadata": {},
     "output_type": "execute_result"
    }
   ],
   "source": [
    "not (5 > 4)"
   ]
  },
  {
   "cell_type": "code",
   "execution_count": 15,
   "id": "intellectual-bhutan",
   "metadata": {},
   "outputs": [
    {
     "data": {
      "text/plain": [
       "True"
      ]
     },
     "execution_count": 15,
     "metadata": {},
     "output_type": "execute_result"
    }
   ],
   "source": [
    "(5 > 4) or (3 == 5)"
   ]
  },
  {
   "cell_type": "code",
   "execution_count": 16,
   "id": "direct-haven",
   "metadata": {},
   "outputs": [
    {
     "data": {
      "text/plain": [
       "False"
      ]
     },
     "execution_count": 16,
     "metadata": {},
     "output_type": "execute_result"
    }
   ],
   "source": [
    "not ((5 > 4) or (3 == 5))"
   ]
  },
  {
   "cell_type": "code",
   "execution_count": 17,
   "id": "enclosed-holocaust",
   "metadata": {},
   "outputs": [
    {
     "data": {
      "text/plain": [
       "False"
      ]
     },
     "execution_count": 17,
     "metadata": {},
     "output_type": "execute_result"
    }
   ],
   "source": [
    "(True and True) and (True == False)"
   ]
  },
  {
   "cell_type": "code",
   "execution_count": 19,
   "id": "efficient-chance",
   "metadata": {},
   "outputs": [
    {
     "data": {
      "text/plain": [
       "True"
      ]
     },
     "execution_count": 19,
     "metadata": {},
     "output_type": "execute_result"
    }
   ],
   "source": [
    "(not False) or (not True)"
   ]
  },
  {
   "cell_type": "markdown",
   "id": "spiritual-maintenance",
   "metadata": {},
   "source": [
    "---\n",
    "#### 5. What are the six different types of reference operators?"
   ]
  },
  {
   "cell_type": "code",
   "execution_count": 79,
   "id": "confused-telescope",
   "metadata": {},
   "outputs": [
    {
     "data": {
      "text/plain": [
       "True"
      ]
     },
     "execution_count": 79,
     "metadata": {},
     "output_type": "execute_result"
    }
   ],
   "source": [
    "# Greater than >\n",
    "\"hi\" > \"hello\""
   ]
  },
  {
   "cell_type": "code",
   "execution_count": 80,
   "id": "greek-directory",
   "metadata": {},
   "outputs": [
    {
     "data": {
      "text/plain": [
       "False"
      ]
     },
     "execution_count": 80,
     "metadata": {},
     "output_type": "execute_result"
    }
   ],
   "source": [
    "# Less than\n",
    "\"hi\" < \"hello\""
   ]
  },
  {
   "cell_type": "code",
   "execution_count": 81,
   "id": "ordered-medicaid",
   "metadata": {},
   "outputs": [
    {
     "data": {
      "text/plain": [
       "False"
      ]
     },
     "execution_count": 81,
     "metadata": {},
     "output_type": "execute_result"
    }
   ],
   "source": [
    "# Equal to\n",
    "\"hi\" == \"hello\""
   ]
  },
  {
   "cell_type": "code",
   "execution_count": 83,
   "id": "spectacular-circus",
   "metadata": {},
   "outputs": [
    {
     "data": {
      "text/plain": [
       "True"
      ]
     },
     "execution_count": 83,
     "metadata": {},
     "output_type": "execute_result"
    }
   ],
   "source": [
    "# Not equal to\n",
    "\"hi\" != \"hello\""
   ]
  },
  {
   "cell_type": "code",
   "execution_count": 84,
   "id": "polar-discount",
   "metadata": {},
   "outputs": [
    {
     "data": {
      "text/plain": [
       "True"
      ]
     },
     "execution_count": 84,
     "metadata": {},
     "output_type": "execute_result"
    }
   ],
   "source": [
    "# Greater than or equal to \n",
    "\"hi\" >=\"hello\""
   ]
  },
  {
   "cell_type": "code",
   "execution_count": 85,
   "id": "copyrighted-blogger",
   "metadata": {},
   "outputs": [
    {
     "data": {
      "text/plain": [
       "False"
      ]
     },
     "execution_count": 85,
     "metadata": {},
     "output_type": "execute_result"
    }
   ],
   "source": [
    "# Less than equal to\n",
    "\"hi\" <= \"hello\""
   ]
  },
  {
   "cell_type": "markdown",
   "id": "anonymous-principle",
   "metadata": {},
   "source": [
    "#### 6. How do you tell the difference between the equal to and assignment operators?"
   ]
  },
  {
   "cell_type": "code",
   "execution_count": 25,
   "id": "proud-conference",
   "metadata": {},
   "outputs": [],
   "source": [
    "# equal to ---> ==\n",
    "# assignment ---> ="
   ]
  },
  {
   "cell_type": "markdown",
   "id": "potential-committee",
   "metadata": {},
   "source": [
    "---\n",
    "#### 7. Describe a condition and when you would use one."
   ]
  },
  {
   "cell_type": "code",
   "execution_count": 26,
   "id": "bottom-valuation",
   "metadata": {},
   "outputs": [
    {
     "data": {
      "text/plain": [
       "True"
      ]
     },
     "execution_count": 26,
     "metadata": {},
     "output_type": "execute_result"
    }
   ],
   "source": [
    "# Equal to\n",
    "\"iNeuron\" == \"iNeuron\""
   ]
  },
  {
   "cell_type": "code",
   "execution_count": 27,
   "id": "inside-tract",
   "metadata": {},
   "outputs": [],
   "source": [
    "# Assignment operator\n",
    "my_tutor = \"Sudhanshu\""
   ]
  },
  {
   "cell_type": "markdown",
   "id": "african-thing",
   "metadata": {},
   "source": [
    "---\n",
    "#### 8. Recognize the following three blocks in this code:"
   ]
  },
  {
   "cell_type": "code",
   "execution_count": 32,
   "id": "rapid-invite",
   "metadata": {},
   "outputs": [],
   "source": [
    "# Assignemnt operator\n",
    "spam = 0"
   ]
  },
  {
   "cell_type": "code",
   "execution_count": 33,
   "id": "potential-netscape",
   "metadata": {},
   "outputs": [],
   "source": [
    "# Conditional operator\n",
    "if spam == 10:\n",
    "    print('eggs')"
   ]
  },
  {
   "cell_type": "code",
   "execution_count": 34,
   "id": "available-defense",
   "metadata": {},
   "outputs": [
    {
     "name": "stdout",
     "output_type": "stream",
     "text": [
      "ham\n"
     ]
    }
   ],
   "source": [
    "# Conditonal operator\n",
    "if spam > 5:\n",
    "    print('bacon')\n",
    "else:\n",
    "    print('ham')"
   ]
  },
  {
   "cell_type": "markdown",
   "id": "prime-german",
   "metadata": {},
   "source": [
    "---\n",
    "#### 9. Create a programme that prints. If 1 is stored in spam, prints Hello; if 2 is stored in spam, prints Howdy; and if 3 is stored in spam, prints Salutations! if there's something else in spam (else condition was not mention in the question)"
   ]
  },
  {
   "cell_type": "code",
   "execution_count": 52,
   "id": "broke-japan",
   "metadata": {},
   "outputs": [],
   "source": [
    "# Code:\n",
    "def test(spam):\n",
    "    if spam == 1:\n",
    "        print(\"Hello\")\n",
    "    elif spam == 2:\n",
    "        print(\"Howdy\")\n",
    "    elif spam == 3:\n",
    "        print(\"Saturations!\")\n",
    "    else:\n",
    "        print(\"Yes,I love ML\")"
   ]
  },
  {
   "cell_type": "code",
   "execution_count": 53,
   "id": "noticed-detective",
   "metadata": {},
   "outputs": [
    {
     "name": "stdout",
     "output_type": "stream",
     "text": [
      "Hello\n"
     ]
    }
   ],
   "source": [
    "# test fro spam = 1\n",
    "test(1)"
   ]
  },
  {
   "cell_type": "code",
   "execution_count": 54,
   "id": "spoken-resolution",
   "metadata": {},
   "outputs": [
    {
     "name": "stdout",
     "output_type": "stream",
     "text": [
      "Howdy\n"
     ]
    }
   ],
   "source": [
    "# test fro spam = 1\n",
    "test(2)"
   ]
  },
  {
   "cell_type": "code",
   "execution_count": 55,
   "id": "tutorial-purchase",
   "metadata": {},
   "outputs": [
    {
     "name": "stdout",
     "output_type": "stream",
     "text": [
      "Saturations!\n"
     ]
    }
   ],
   "source": [
    "# test fro spam = 1\n",
    "test(3)"
   ]
  },
  {
   "cell_type": "code",
   "execution_count": 56,
   "id": "interim-advancement",
   "metadata": {},
   "outputs": [
    {
     "name": "stdout",
     "output_type": "stream",
     "text": [
      "Yes,I love ML\n"
     ]
    }
   ],
   "source": [
    "# test fro spam = 1\n",
    "test(\"Do you like ML\")"
   ]
  },
  {
   "cell_type": "markdown",
   "id": "separate-principle",
   "metadata": {},
   "source": [
    "---\n",
    "#### 10.If your program is stuck in an endless loop, what keys can you press?\n"
   ]
  },
  {
   "cell_type": "code",
   "execution_count": 57,
   "id": "worst-motel",
   "metadata": {},
   "outputs": [],
   "source": [
    "# ctrl + C"
   ]
  },
  {
   "cell_type": "markdown",
   "id": "freelance-guyana",
   "metadata": {},
   "source": [
    "---\n",
    "#### 11. How can you tell the difference between break and continue?"
   ]
  },
  {
   "cell_type": "code",
   "execution_count": 61,
   "id": "built-basement",
   "metadata": {},
   "outputs": [
    {
     "name": "stdout",
     "output_type": "stream",
     "text": [
      "Pandas\n",
      "Numpy\n"
     ]
    }
   ],
   "source": [
    "# Break will make the program to exit the current loop\n",
    "# Eg:\n",
    "for python in [\"Pandas\", \"Numpy\", \"snake\", \"openCV\"]:\n",
    "    if python == \"snake\":\n",
    "        break\n",
    "    print(python)"
   ]
  },
  {
   "cell_type": "code",
   "execution_count": 62,
   "id": "improving-amplifier",
   "metadata": {},
   "outputs": [
    {
     "name": "stdout",
     "output_type": "stream",
     "text": [
      "Pandas\n",
      "Numpy\n",
      "openCV\n"
     ]
    }
   ],
   "source": [
    "# Continue will skip the current iteration in the loop\n",
    "# Eg:\n",
    "for python in [\"Pandas\", \"Numpy\", \"snake\", \"openCV\"]:\n",
    "    if python == \"snake\":\n",
    "        continue\n",
    "    print(python)"
   ]
  },
  {
   "cell_type": "markdown",
   "id": "funded-convenience",
   "metadata": {},
   "source": [
    "---\n",
    "#### 12. In a for loop, what is the difference between range(10), range(0, 10), and range(0, 10, 1)?"
   ]
  },
  {
   "cell_type": "code",
   "execution_count": 67,
   "id": "boring-winner",
   "metadata": {},
   "outputs": [
    {
     "data": {
      "text/plain": [
       "True"
      ]
     },
     "execution_count": 67,
     "metadata": {},
     "output_type": "execute_result"
    }
   ],
   "source": [
    "list1 = []\n",
    "for i in range(10):\n",
    "    list1.append(i)\n",
    "    \n",
    "list2 = []\n",
    "for i in range(0,10):\n",
    "    list2.append(i)\n",
    "\n",
    "list3 = []\n",
    "for i in range(0,10,1):\n",
    "    list3.append(i)\n",
    "    \n",
    "# Checking condition\n",
    "list1 == list2 == list3"
   ]
  },
  {
   "cell_type": "markdown",
   "id": "distinguished-teach",
   "metadata": {},
   "source": [
    "No difference between range(10), range(0, 10), and range(0, 10, 1)"
   ]
  },
  {
   "cell_type": "markdown",
   "id": "excited-principle",
   "metadata": {},
   "source": [
    "---\n",
    "#### 13. Using a for loop, write a short programme that prints the numbers 1 to 10 Then, using a while loop, create an identical programme that prints the numbers 1 to 10."
   ]
  },
  {
   "cell_type": "code",
   "execution_count": 72,
   "id": "latest-zimbabwe",
   "metadata": {},
   "outputs": [
    {
     "name": "stdout",
     "output_type": "stream",
     "text": [
      "1\n",
      "2\n",
      "3\n",
      "4\n",
      "5\n",
      "6\n",
      "7\n",
      "8\n",
      "9\n",
      "10\n"
     ]
    }
   ],
   "source": [
    "#  for loop\n",
    "for i in range(1,11):\n",
    "    print(i)"
   ]
  },
  {
   "cell_type": "code",
   "execution_count": 74,
   "id": "single-keyboard",
   "metadata": {},
   "outputs": [
    {
     "name": "stdout",
     "output_type": "stream",
     "text": [
      "1\n",
      "2\n",
      "3\n",
      "4\n",
      "5\n",
      "6\n",
      "7\n",
      "8\n",
      "9\n",
      "10\n"
     ]
    }
   ],
   "source": [
    "# while loop\n",
    "i = 1\n",
    "while i < 11:\n",
    "  print(i)\n",
    "  i += 1"
   ]
  },
  {
   "cell_type": "markdown",
   "id": "broadband-jaguar",
   "metadata": {},
   "source": [
    "---\n",
    "#### 14. If you had a bacon() function within a spam module, how would you call it after importing spam?"
   ]
  },
  {
   "cell_type": "code",
   "execution_count": 75,
   "id": "regular-charter",
   "metadata": {},
   "outputs": [],
   "source": [
    "# from spam import bacon"
   ]
  },
  {
   "cell_type": "code",
   "execution_count": null,
   "id": "smart-hardwood",
   "metadata": {},
   "outputs": [],
   "source": []
  }
 ],
 "metadata": {
  "kernelspec": {
   "display_name": "Python 3",
   "language": "python",
   "name": "python3"
  },
  "language_info": {
   "codemirror_mode": {
    "name": "ipython",
    "version": 3
   },
   "file_extension": ".py",
   "mimetype": "text/x-python",
   "name": "python",
   "nbconvert_exporter": "python",
   "pygments_lexer": "ipython3",
   "version": "3.9.1"
  }
 },
 "nbformat": 4,
 "nbformat_minor": 5
}
