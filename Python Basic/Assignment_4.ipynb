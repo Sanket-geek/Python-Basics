{
 "cells": [
  {
   "cell_type": "markdown",
   "id": "linear-elevation",
   "metadata": {},
   "source": [
    "# Python Basic - Assignment 4\n",
    "---"
   ]
  },
  {
   "cell_type": "markdown",
   "id": "middle-throat",
   "metadata": {},
   "source": [
    "####"
   ]
  },
  {
   "cell_type": "markdown",
   "id": "selected-energy",
   "metadata": {},
   "source": [
    "---\n",
    "#### 1. What exactly is []?"
   ]
  },
  {
   "cell_type": "code",
   "execution_count": 5,
   "id": "technical-denmark",
   "metadata": {},
   "outputs": [
    {
     "data": {
      "text/plain": [
       "list"
      ]
     },
     "execution_count": 5,
     "metadata": {},
     "output_type": "execute_result"
    }
   ],
   "source": [
    "# It's an empty list\n",
    "type([])"
   ]
  },
  {
   "cell_type": "markdown",
   "id": "corporate-crystal",
   "metadata": {},
   "source": [
    "---\n",
    "#### 2. In a list of values stored in a variable called spam, how would you assign the value 'hello' as the third value? (Assume [2, 4, 6, 8, 10] are in spam.)"
   ]
  },
  {
   "cell_type": "code",
   "execution_count": 7,
   "id": "central-digit",
   "metadata": {},
   "outputs": [
    {
     "data": {
      "text/plain": [
       "[2, 4, 'hello', 8, 10]"
      ]
     },
     "execution_count": 7,
     "metadata": {},
     "output_type": "execute_result"
    }
   ],
   "source": [
    "spam = [2, 4, 6, 8, 10]\n",
    "spam[2] = \"hello\"\n",
    "spam"
   ]
  },
  {
   "cell_type": "markdown",
   "id": "reliable-solomon",
   "metadata": {},
   "source": [
    "---\n",
    "### Let's pretend the spam includes the list ['a', 'b', 'c', 'd'] for the next three queries."
   ]
  },
  {
   "cell_type": "code",
   "execution_count": 9,
   "id": "provincial-geography",
   "metadata": {},
   "outputs": [],
   "source": [
    "spam = ['a','b','c','d']"
   ]
  },
  {
   "cell_type": "markdown",
   "id": "respective-netherlands",
   "metadata": {},
   "source": [
    "---\n",
    "#### 3. What is the value of spam[int(int('3' * 2) / 11)]?"
   ]
  },
  {
   "cell_type": "code",
   "execution_count": 10,
   "id": "spanish-douglas",
   "metadata": {},
   "outputs": [
    {
     "data": {
      "text/plain": [
       "'d'"
      ]
     },
     "execution_count": 10,
     "metadata": {},
     "output_type": "execute_result"
    }
   ],
   "source": [
    "spam[int(int('3' * 2) / 11)]"
   ]
  },
  {
   "cell_type": "markdown",
   "id": "varying-revolution",
   "metadata": {},
   "source": [
    "---\n",
    "#### 4. What is the value of spam[-1]?"
   ]
  },
  {
   "cell_type": "code",
   "execution_count": 11,
   "id": "asian-pacific",
   "metadata": {},
   "outputs": [
    {
     "data": {
      "text/plain": [
       "'d'"
      ]
     },
     "execution_count": 11,
     "metadata": {},
     "output_type": "execute_result"
    }
   ],
   "source": [
    "spam[-1]"
   ]
  },
  {
   "cell_type": "markdown",
   "id": "alleged-partnership",
   "metadata": {},
   "source": [
    "---\n",
    "#### 5. What is the value of spam[:2]?"
   ]
  },
  {
   "cell_type": "code",
   "execution_count": 12,
   "id": "vocal-version",
   "metadata": {},
   "outputs": [
    {
     "data": {
      "text/plain": [
       "['a', 'b']"
      ]
     },
     "execution_count": 12,
     "metadata": {},
     "output_type": "execute_result"
    }
   ],
   "source": [
    "spam[:2]"
   ]
  },
  {
   "cell_type": "markdown",
   "id": "outdoor-encoding",
   "metadata": {},
   "source": [
    "---\n",
    "### Let's pretend bacon has the list [3.14, 'cat,' 11, 'cat,' True] for the next three questions."
   ]
  },
  {
   "cell_type": "code",
   "execution_count": 15,
   "id": "structural-coast",
   "metadata": {},
   "outputs": [],
   "source": [
    "bacon = [3.14, 'cat',11, 'cat',True]"
   ]
  },
  {
   "cell_type": "markdown",
   "id": "wrapped-earthquake",
   "metadata": {},
   "source": [
    "---\n",
    "#### 6. What is the value of bacon.index('cat')?"
   ]
  },
  {
   "cell_type": "code",
   "execution_count": 17,
   "id": "dedicated-endorsement",
   "metadata": {},
   "outputs": [
    {
     "data": {
      "text/plain": [
       "1"
      ]
     },
     "execution_count": 17,
     "metadata": {},
     "output_type": "execute_result"
    }
   ],
   "source": [
    "# It is located at 2nd position. So it will return the index 1\n",
    "bacon.index('cat')"
   ]
  },
  {
   "cell_type": "markdown",
   "id": "greek-travel",
   "metadata": {},
   "source": [
    "---\n",
    "#### 7. How does bacon.append(99) change the look of the list value in bacon?"
   ]
  },
  {
   "cell_type": "code",
   "execution_count": 18,
   "id": "turkish-louisville",
   "metadata": {},
   "outputs": [
    {
     "data": {
      "text/plain": [
       "[3.14, 'cat', 11, 'cat', True, 99]"
      ]
     },
     "execution_count": 18,
     "metadata": {},
     "output_type": "execute_result"
    }
   ],
   "source": [
    "bacon.append(99)\n",
    "bacon"
   ]
  },
  {
   "cell_type": "markdown",
   "id": "southeast-apollo",
   "metadata": {},
   "source": [
    "---\n",
    "#### 8. How does bacon.remove('cat') change the look of the list meaning in bacon?"
   ]
  },
  {
   "cell_type": "code",
   "execution_count": 20,
   "id": "subjective-ocean",
   "metadata": {},
   "outputs": [
    {
     "data": {
      "text/plain": [
       "[3.14, 11, True, 99]"
      ]
     },
     "execution_count": 20,
     "metadata": {},
     "output_type": "execute_result"
    }
   ],
   "source": [
    "# The cat at the first gets removed\n",
    "bacon.remove('cat')\n",
    "bacon"
   ]
  },
  {
   "cell_type": "markdown",
   "id": "established-mozambique",
   "metadata": {},
   "source": [
    "---\n",
    "#### 9. What are the list concatenation and list replication operators?"
   ]
  },
  {
   "cell_type": "code",
   "execution_count": 21,
   "id": "fewer-portable",
   "metadata": {},
   "outputs": [
    {
     "data": {
      "text/plain": [
       "['L1', 'L2']"
      ]
     },
     "execution_count": 21,
     "metadata": {},
     "output_type": "execute_result"
    }
   ],
   "source": [
    "list1 = [\"L1\"]\n",
    "list2 = [\"L2\"]\n",
    "# Concatenating both the list\n",
    "list3 = list1 + list2\n",
    "list3"
   ]
  },
  {
   "cell_type": "code",
   "execution_count": 23,
   "id": "surrounded-chicago",
   "metadata": {},
   "outputs": [
    {
     "data": {
      "text/plain": [
       "['iNeuron']"
      ]
     },
     "execution_count": 23,
     "metadata": {},
     "output_type": "execute_result"
    }
   ],
   "source": [
    "list1 = [\"iNeuron\"]\n",
    "list1_copy = list.copy(list1)\n",
    "list1_copy"
   ]
  },
  {
   "cell_type": "markdown",
   "id": "radio-conviction",
   "metadata": {},
   "source": [
    "---\n",
    "#### 10. What is difference between the list methods append() and insert()?"
   ]
  },
  {
   "cell_type": "code",
   "execution_count": 25,
   "id": "modern-burlington",
   "metadata": {},
   "outputs": [
    {
     "data": {
      "text/plain": [
       "['I', 'am', 'good', 'boy']"
      ]
     },
     "execution_count": 25,
     "metadata": {},
     "output_type": "execute_result"
    }
   ],
   "source": [
    "# append() adds element at the end of list\n",
    "sample_list = [\"I\",\"am\",\"good\"]\n",
    "sample_list.append(\"boy\")\n",
    "sample_list"
   ]
  },
  {
   "cell_type": "code",
   "execution_count": 26,
   "id": "instrumental-somalia",
   "metadata": {},
   "outputs": [
    {
     "data": {
      "text/plain": [
       "['I', 'am', 'not', 'good', 'boy']"
      ]
     },
     "execution_count": 26,
     "metadata": {},
     "output_type": "execute_result"
    }
   ],
   "source": [
    "# insert eneables us to add the elemment by specifying the index\n",
    "sample_list.insert(2,\"not\")\n",
    "sample_list"
   ]
  },
  {
   "cell_type": "markdown",
   "id": "emerging-imperial",
   "metadata": {},
   "source": [
    "---\n",
    "#### 11. What are the two methods for removing items from a list?"
   ]
  },
  {
   "cell_type": "code",
   "execution_count": 32,
   "id": "incomplete-criminal",
   "metadata": {},
   "outputs": [],
   "source": [
    "words = [\"Coding\", \"Coffee\", \"Learning\", \"Bug\", \"Error\"]"
   ]
  },
  {
   "cell_type": "code",
   "execution_count": 33,
   "id": "informal-aggregate",
   "metadata": {},
   "outputs": [
    {
     "data": {
      "text/plain": [
       "['Coding', 'Coffee', 'Learning', 'Error']"
      ]
     },
     "execution_count": 33,
     "metadata": {},
     "output_type": "execute_result"
    }
   ],
   "source": [
    "# remove()\n",
    "words.remove(\"Bug\")\n",
    "words"
   ]
  },
  {
   "cell_type": "code",
   "execution_count": 35,
   "id": "hispanic-aurora",
   "metadata": {},
   "outputs": [
    {
     "data": {
      "text/plain": [
       "['Coding', 'Coffee', 'Learning']"
      ]
     },
     "execution_count": 35,
     "metadata": {},
     "output_type": "execute_result"
    }
   ],
   "source": [
    "# pop()\n",
    "words.pop(words.index(\"Error\"))\n",
    "words"
   ]
  },
  {
   "cell_type": "markdown",
   "id": "lucky-connection",
   "metadata": {},
   "source": [
    "---\n",
    "#### 12. Describe how list values and string values are identical."
   ]
  },
  {
   "cell_type": "code",
   "execution_count": 37,
   "id": "quality-technology",
   "metadata": {},
   "outputs": [
    {
     "data": {
      "text/plain": [
       "True"
      ]
     },
     "execution_count": 37,
     "metadata": {},
     "output_type": "execute_result"
    }
   ],
   "source": [
    "lst = [\"i\", \"N\", \"e\", \"u\", \"r\", \"o\", \"n\"]\n",
    "string = \"iNeuron\"\n",
    "\n",
    "lst[2] == string[2]"
   ]
  },
  {
   "cell_type": "markdown",
   "id": "breeding-dallas",
   "metadata": {},
   "source": [
    "---\n",
    "#### 13. What's the difference between tuples and lists?"
   ]
  },
  {
   "cell_type": "code",
   "execution_count": 38,
   "id": "fleet-relief",
   "metadata": {},
   "outputs": [],
   "source": [
    "# Lists are mutable i.e the values can be changed after declaration\n",
    "# Tuples are immutable and its values cannot be changed later"
   ]
  },
  {
   "cell_type": "markdown",
   "id": "split-function",
   "metadata": {},
   "source": [
    "---\n",
    "#### 14. How do you type a tuple value that only contains the integer 42?"
   ]
  },
  {
   "cell_type": "code",
   "execution_count": 44,
   "id": "lasting-hebrew",
   "metadata": {},
   "outputs": [],
   "source": [
    "tup = (42)"
   ]
  },
  {
   "cell_type": "markdown",
   "id": "statewide-round",
   "metadata": {},
   "source": [
    "---\n",
    "#### 15. How do you get a list value's tuple form? How do you get a tuple value's list form?\n"
   ]
  },
  {
   "cell_type": "code",
   "execution_count": 45,
   "id": "monthly-anatomy",
   "metadata": {},
   "outputs": [
    {
     "data": {
      "text/plain": [
       "list"
      ]
     },
     "execution_count": 45,
     "metadata": {},
     "output_type": "execute_result"
    }
   ],
   "source": [
    "tup = (1,2,3,4,5)\n",
    "lst = list(tup)\n",
    "type(lst)"
   ]
  },
  {
   "cell_type": "code",
   "execution_count": 46,
   "id": "continental-tonight",
   "metadata": {},
   "outputs": [
    {
     "data": {
      "text/plain": [
       "tuple"
      ]
     },
     "execution_count": 46,
     "metadata": {},
     "output_type": "execute_result"
    }
   ],
   "source": [
    "lst = [9,8,7,6,5]\n",
    "tup = tuple(lst)\n",
    "type(tup)"
   ]
  },
  {
   "cell_type": "markdown",
   "id": "distinct-debut",
   "metadata": {},
   "source": [
    "---\n",
    "#### 16. Variables that \"contain\" list values are not necessarily lists themselves. Instead, what do they contain?\n"
   ]
  },
  {
   "cell_type": "code",
   "execution_count": null,
   "id": "necessary-bargain",
   "metadata": {},
   "outputs": [],
   "source": []
  },
  {
   "cell_type": "markdown",
   "id": "respiratory-culture",
   "metadata": {},
   "source": [
    "---\n",
    "#### 17. How do you distinguish between copy.copy() and copy.deepcopy()?\n"
   ]
  },
  {
   "cell_type": "code",
   "execution_count": 104,
   "id": "similar-jesus",
   "metadata": {},
   "outputs": [
    {
     "data": {
      "text/plain": [
       "[1, ['Changes', 3], 4, 5]"
      ]
     },
     "execution_count": 104,
     "metadata": {},
     "output_type": "execute_result"
    }
   ],
   "source": [
    "import copy\n",
    "original_list = [1,[2,3],4,5]\n",
    "\n",
    "# copy.copy()\n",
    "shallow_copy = copy.copy(original_list)\n",
    "\n",
    "# Making changes to shallow copy\n",
    "shallow_copy[1][0] = \"Changes\"\n",
    "\n",
    "# Changes are reflected in original list\n",
    "original_list"
   ]
  },
  {
   "cell_type": "code",
   "execution_count": 106,
   "id": "laden-surrey",
   "metadata": {},
   "outputs": [
    {
     "data": {
      "text/plain": [
       "[1, [2, 3], 4, 5]"
      ]
     },
     "execution_count": 106,
     "metadata": {},
     "output_type": "execute_result"
    }
   ],
   "source": [
    "import copy\n",
    "original_list = [1,[2,3],4,5]\n",
    "\n",
    "# copy.copy()\n",
    "list_deepcopy = copy.deepcopy(original_list)\n",
    "\n",
    "# Making changes to copy.copy()\n",
    "list_deepcopy[1][0] = \"Changes\"\n",
    "\n",
    "# Changes will not be reflected in original list\n",
    "original_list"
   ]
  },
  {
   "cell_type": "markdown",
   "id": "mysterious-issue",
   "metadata": {},
   "source": [
    "---\n",
    "####"
   ]
  },
  {
   "cell_type": "code",
   "execution_count": null,
   "id": "modified-native",
   "metadata": {},
   "outputs": [],
   "source": []
  }
 ],
 "metadata": {
  "kernelspec": {
   "display_name": "Python 3",
   "language": "python",
   "name": "python3"
  },
  "language_info": {
   "codemirror_mode": {
    "name": "ipython",
    "version": 3
   },
   "file_extension": ".py",
   "mimetype": "text/x-python",
   "name": "python",
   "nbconvert_exporter": "python",
   "pygments_lexer": "ipython3",
   "version": "3.9.1"
  }
 },
 "nbformat": 4,
 "nbformat_minor": 5
}
