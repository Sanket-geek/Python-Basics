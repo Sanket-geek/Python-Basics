{
 "cells": [
  {
   "cell_type": "markdown",
   "id": "expired-madonna",
   "metadata": {},
   "source": [
    "# Python Basic - Assignment 9\n",
    "---"
   ]
  },
  {
   "cell_type": "markdown",
   "id": "scheduled-holly",
   "metadata": {},
   "source": [
    "#### 1. To what does a relative path refer?"
   ]
  },
  {
   "cell_type": "code",
   "execution_count": 1,
   "id": "loose-webster",
   "metadata": {},
   "outputs": [],
   "source": [
    "# It is the location relative to the current directory"
   ]
  },
  {
   "cell_type": "markdown",
   "id": "bronze-console",
   "metadata": {},
   "source": [
    "#### 2. Where does an absolute path start with your operating system?"
   ]
  },
  {
   "cell_type": "code",
   "execution_count": 3,
   "id": "prompt-study",
   "metadata": {},
   "outputs": [],
   "source": [
    "# It start at C:"
   ]
  },
  {
   "cell_type": "markdown",
   "id": "suited-passport",
   "metadata": {},
   "source": [
    "#### 3. What do the functions os.getcwd() and os.chdir() do?"
   ]
  },
  {
   "cell_type": "code",
   "execution_count": 4,
   "id": "anticipated-delicious",
   "metadata": {},
   "outputs": [],
   "source": [
    "# os.getcwd() returns the current working directory\n",
    "# os.chdir()  changes the current working directory."
   ]
  },
  {
   "cell_type": "markdown",
   "id": "structural-teddy",
   "metadata": {},
   "source": [
    "#### 4. What are the . and .. folders?"
   ]
  },
  {
   "cell_type": "code",
   "execution_count": 5,
   "id": "destroyed-vietnamese",
   "metadata": {},
   "outputs": [],
   "source": [
    "# . referes to the current directory\n",
    "# .. refers to the one level up the current directory"
   ]
  },
  {
   "cell_type": "markdown",
   "id": "artistic-feedback",
   "metadata": {},
   "source": [
    "#### 5. In C:\\bacon\\eggs\\spam.txt, which part is the dir name, and which part is the base name?"
   ]
  },
  {
   "cell_type": "code",
   "execution_count": 6,
   "id": "private-timeline",
   "metadata": {},
   "outputs": [],
   "source": [
    "# dir name is C:\\bacon\\eggs\n",
    "# base name is spam.txt"
   ]
  },
  {
   "cell_type": "markdown",
   "id": "greatest-microphone",
   "metadata": {},
   "source": [
    "#### 6. What are the three “mode” arguments that can be passed to the open() function?"
   ]
  },
  {
   "cell_type": "code",
   "execution_count": 7,
   "id": "worldwide-denver",
   "metadata": {},
   "outputs": [],
   "source": [
    "# \"r\" - read\n",
    "# \"a\" - Append\n",
    "# \"w\" - Write"
   ]
  },
  {
   "cell_type": "markdown",
   "id": "geographic-bubble",
   "metadata": {},
   "source": [
    "#### 7. What happens if an existing file is opened in write mode?"
   ]
  },
  {
   "cell_type": "code",
   "execution_count": 8,
   "id": "corrected-trigger",
   "metadata": {},
   "outputs": [],
   "source": [
    "# It overrides the content of the file with new data"
   ]
  },
  {
   "cell_type": "markdown",
   "id": "oriental-constraint",
   "metadata": {},
   "source": [
    "#### 8. How do you tell the difference between read() and readlines()?"
   ]
  },
  {
   "cell_type": "code",
   "execution_count": 13,
   "id": "viral-understanding",
   "metadata": {},
   "outputs": [],
   "source": [
    "# read() reads through each character in the files adn return the entier content\n",
    "# readlines() reads each line and returns a list of lines"
   ]
  },
  {
   "cell_type": "markdown",
   "id": "driving-conference",
   "metadata": {},
   "source": [
    "#### 9. What data structure does a shelf value resemble?"
   ]
  },
  {
   "cell_type": "code",
   "execution_count": null,
   "id": "communist-truth",
   "metadata": {},
   "outputs": [],
   "source": []
  }
 ],
 "metadata": {
  "kernelspec": {
   "display_name": "Python 3",
   "language": "python",
   "name": "python3"
  },
  "language_info": {
   "codemirror_mode": {
    "name": "ipython",
    "version": 3
   },
   "file_extension": ".py",
   "mimetype": "text/x-python",
   "name": "python",
   "nbconvert_exporter": "python",
   "pygments_lexer": "ipython3",
   "version": "3.9.1"
  }
 },
 "nbformat": 4,
 "nbformat_minor": 5
}
