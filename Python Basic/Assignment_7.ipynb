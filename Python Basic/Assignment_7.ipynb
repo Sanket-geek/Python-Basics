{
 "cells": [
  {
   "cell_type": "markdown",
   "id": "acceptable-blast",
   "metadata": {},
   "source": [
    "# Python Basic - Assignment 7\n",
    "---"
   ]
  },
  {
   "cell_type": "markdown",
   "id": "improved-binding",
   "metadata": {},
   "source": [
    "#### 1. What is the name of the feature responsible for generating Regex objects?"
   ]
  },
  {
   "cell_type": "code",
   "execution_count": 1,
   "id": "structured-toyota",
   "metadata": {},
   "outputs": [],
   "source": [
    "# re.complie() fucntion created regex objects                "
   ]
  },
  {
   "cell_type": "markdown",
   "id": "strong-procurement",
   "metadata": {},
   "source": [
    "#### 2. Why do raw strings often appear in Regex objects?"
   ]
  },
  {
   "cell_type": "code",
   "execution_count": 2,
   "id": "steady-reader",
   "metadata": {},
   "outputs": [],
   "source": [
    "# Raw string are used to avoid escaping backslash"
   ]
  },
  {
   "cell_type": "markdown",
   "id": "complete-physics",
   "metadata": {},
   "source": [
    "#### 3. What is the return value of the search() method?"
   ]
  },
  {
   "cell_type": "code",
   "execution_count": 9,
   "id": "occupied-ebony",
   "metadata": {},
   "outputs": [
    {
     "data": {
      "text/plain": [
       "<re.Match object; span=(6, 10), match='rain'>"
      ]
     },
     "execution_count": 9,
     "metadata": {},
     "output_type": "execute_result"
    }
   ],
   "source": [
    "# re.search() returns the match object if present in the string.\n",
    "import re\n",
    "text = \"It is raining\"\n",
    "match = re.search(\"rain\", text)\n",
    "match"
   ]
  },
  {
   "cell_type": "markdown",
   "id": "violent-generation",
   "metadata": {},
   "source": [
    "#### 4. From a Match item, how do you get the actual strings that match the pattern?"
   ]
  },
  {
   "cell_type": "code",
   "execution_count": 11,
   "id": "recorded-somerset",
   "metadata": {},
   "outputs": [
    {
     "data": {
      "text/plain": [
       "'rain'"
      ]
     },
     "execution_count": 11,
     "metadata": {},
     "output_type": "execute_result"
    }
   ],
   "source": [
    "# using group() function\n",
    "match.group()"
   ]
  },
  {
   "cell_type": "markdown",
   "id": "structural-empire",
   "metadata": {},
   "source": [
    "#### 5. In the regex which created from the r'(\\d\\d\\d)-(\\d\\d\\d-\\d\\d\\d\\d)', what does group zero cover? Group 2? Group 1?"
   ]
  },
  {
   "cell_type": "code",
   "execution_count": 13,
   "id": "polar-mobility",
   "metadata": {},
   "outputs": [],
   "source": [
    "# group(0) will match the entire group\n",
    "# group(1) will match the first group of parenthesis\n",
    "# group(2) will match the second group of parenthesis"
   ]
  },
  {
   "cell_type": "markdown",
   "id": "streaming-wells",
   "metadata": {},
   "source": [
    "#### 6. In standard expression syntax, parentheses and intervals have distinct meanings. How can you tell a regex that you want it to fit real parentheses and periods?"
   ]
  },
  {
   "cell_type": "code",
   "execution_count": 14,
   "id": "valuable-graphics",
   "metadata": {},
   "outputs": [],
   "source": [
    "# By uisng backslash i.e \\(, \\."
   ]
  },
  {
   "cell_type": "markdown",
   "id": "offshore-emperor",
   "metadata": {},
   "source": [
    "#### 7. The findall() method returns a string list or a list of string tuples. What causes it to return one of the two options?"
   ]
  },
  {
   "cell_type": "code",
   "execution_count": 15,
   "id": "noticed-evening",
   "metadata": {},
   "outputs": [],
   "source": [
    "# It returns a string list for no groups and string tuples for group of regex"
   ]
  },
  {
   "cell_type": "markdown",
   "id": "industrial-hazard",
   "metadata": {},
   "source": [
    "#### 8. In standard expressions, what does the | character mean?"
   ]
  },
  {
   "cell_type": "code",
   "execution_count": 16,
   "id": "broad-silicon",
   "metadata": {},
   "outputs": [],
   "source": [
    "# It means \"Or\""
   ]
  },
  {
   "cell_type": "markdown",
   "id": "tired-customs",
   "metadata": {},
   "source": [
    "#### 9. In regular expressions, what does the character stand for?"
   ]
  },
  {
   "cell_type": "code",
   "execution_count": 17,
   "id": "frank-helmet",
   "metadata": {},
   "outputs": [],
   "source": [
    "# Incomplete question"
   ]
  },
  {
   "cell_type": "markdown",
   "id": "challenging-florist",
   "metadata": {},
   "source": [
    "#### 10.In regular expressions, what is the difference between the + and * characters?"
   ]
  },
  {
   "cell_type": "code",
   "execution_count": 18,
   "id": "restricted-heading",
   "metadata": {},
   "outputs": [],
   "source": [
    "# + matches one or more\n",
    "# * matches zero or more"
   ]
  },
  {
   "cell_type": "markdown",
   "id": "french-machinery",
   "metadata": {},
   "source": [
    "#### 11. What is the difference between {4} and {4,5} in regular expression?"
   ]
  },
  {
   "cell_type": "code",
   "execution_count": 19,
   "id": "tamil-alexandria",
   "metadata": {},
   "outputs": [],
   "source": [
    "# {4} matches 4 instances.\n",
    "# {4,5} matches 4 or 5 instances"
   ]
  },
  {
   "cell_type": "markdown",
   "id": "super-spider",
   "metadata": {},
   "source": [
    "#### 12. What do you mean by the \\d, \\w, and \\s shorthand character classes signify in regular expressions?"
   ]
  },
  {
   "cell_type": "code",
   "execution_count": 20,
   "id": "domestic-doubt",
   "metadata": {},
   "outputs": [],
   "source": [
    "# \\d - single digit\n",
    "# \\w - word\n",
    "# \\s - space"
   ]
  },
  {
   "cell_type": "markdown",
   "id": "compatible-silicon",
   "metadata": {},
   "source": [
    "#### 13. What do means by \\D, \\W, and \\S shorthand character classes signify in regular expressions?"
   ]
  },
  {
   "cell_type": "code",
   "execution_count": 21,
   "id": "threaded-value",
   "metadata": {},
   "outputs": [],
   "source": [
    "# \\D - not single digit\n",
    "# \\W - not a word\n",
    "# \\S - not a  space"
   ]
  },
  {
   "cell_type": "markdown",
   "id": "designed-shopper",
   "metadata": {},
   "source": [
    "#### 14. What is the difference between . and .*?   ?"
   ]
  },
  {
   "cell_type": "code",
   "execution_count": 22,
   "id": "tender-bonus",
   "metadata": {},
   "outputs": [],
   "source": [
    "# . - greedy match\n",
    "# .? - non greedy match"
   ]
  },
  {
   "cell_type": "markdown",
   "id": "measured-developer",
   "metadata": {},
   "source": [
    "#### 15. What is the syntax for matching both numbers and lowercase letters with a character class?"
   ]
  },
  {
   "cell_type": "code",
   "execution_count": 23,
   "id": "brave-intellectual",
   "metadata": {},
   "outputs": [],
   "source": [
    "# [0-9a-z]"
   ]
  },
  {
   "cell_type": "markdown",
   "id": "classical-dayton",
   "metadata": {},
   "source": [
    "#### 16. What is the procedure for making a normal expression in regex case insensitive?"
   ]
  },
  {
   "cell_type": "code",
   "execution_count": 37,
   "id": "pointed-bobby",
   "metadata": {},
   "outputs": [],
   "source": [
    "# By passing the argument, \"re.IGNORECASE\" in re.compile()"
   ]
  },
  {
   "cell_type": "markdown",
   "id": "charitable-speed",
   "metadata": {},
   "source": [
    "#### 17. What does the . character normally match? What does it match if re.DOTALL is passed as 2nd argument in re.compile()?"
   ]
  },
  {
   "cell_type": "code",
   "execution_count": 38,
   "id": "virgin-exhibit",
   "metadata": {},
   "outputs": [],
   "source": [
    "# \" . \" matches all everything except newline.\n",
    "# re.DOTALL will also match the new line character"
   ]
  },
  {
   "cell_type": "markdown",
   "id": "actual-commission",
   "metadata": {},
   "source": [
    "#### 18. If numReg = re.compile(r'\\d+'), what will numRegex.sub('X', '11 drummers, 10 pipers, five rings, 4 hen') return?"
   ]
  },
  {
   "cell_type": "code",
   "execution_count": 42,
   "id": "therapeutic-elder",
   "metadata": {},
   "outputs": [
    {
     "data": {
      "text/plain": [
       "'X drummers, X pipers, five rings, X hen'"
      ]
     },
     "execution_count": 42,
     "metadata": {},
     "output_type": "execute_result"
    }
   ],
   "source": [
    "reg = re.compile(r'\\d+')\n",
    "\n",
    "# reg.sub will replace all the matched character with \"X\"\n",
    "reg.sub('X', '11 drummers, 10 pipers, five rings, 4 hen')"
   ]
  },
  {
   "cell_type": "markdown",
   "id": "american-stations",
   "metadata": {},
   "source": [
    "#### 19. What does passing re.VERBOSE as the 2nd argument to re.compile() allow to do?"
   ]
  },
  {
   "cell_type": "code",
   "execution_count": 43,
   "id": "still-chester",
   "metadata": {},
   "outputs": [],
   "source": [
    "# re.VERBOSE helps to write more readable regular expression by including whitespaces and comments"
   ]
  },
  {
   "cell_type": "markdown",
   "id": "emerging-vault",
   "metadata": {},
   "source": [
    "#### 20. How would you write a regex that match a number with comma for every three digits? It must match the given following:\n",
    "'42'\n",
    "'1,234'\n",
    "'6,368,745'\n",
    "#### but not the following:\n",
    "'12,34,567' (which has only two digits between the commas)\n",
    "'1234' (which lacks commas)"
   ]
  },
  {
   "cell_type": "code",
   "execution_count": 44,
   "id": "polished-greensboro",
   "metadata": {},
   "outputs": [
    {
     "name": "stdout",
     "output_type": "stream",
     "text": [
      "<re.Match object; span=(0, 2), match='42'>\n",
      "<re.Match object; span=(0, 5), match='1,234'>\n",
      "<re.Match object; span=(0, 9), match='6,368,745'>\n",
      "None\n",
      "None\n"
     ]
    }
   ],
   "source": [
    "regex = re.compile(r'^\\d{1,3}(,\\d{3})*$')\n",
    "print(re.match(regex, '42'))\n",
    "print(re.match(regex, '1,234'))\n",
    "print(re.match(regex, '6,368,745'))\n",
    "print(re.match(regex, '12,34,567'))\n",
    "print(re.match(regex, '1234'))\n"
   ]
  },
  {
   "cell_type": "markdown",
   "id": "peripheral-interest",
   "metadata": {},
   "source": [
    "#### 21. How would you write a regex that matches the full name of someone whose last name is Watanabe? You can assume that the first name that comes before it will always be one word that begins with a capital letter. The regex must match the following:\n",
    "- 'Haruto Watanabe'\n",
    "- 'Alice Watanabe'\n",
    "- 'RoboCop Watanabe'\n",
    "#### but not the following:\n",
    "- 'haruto Watanabe' (where the first name is not capitalized)\n",
    "- 'Mr. Watanabe' (where the preceding word has a nonletter character)\n",
    "- 'Watanabe' (which has no first name)\n",
    "- 'Haruto watanabe' (where Watanabe is not capitalized)"
   ]
  },
  {
   "cell_type": "code",
   "execution_count": 45,
   "id": "impressive-malta",
   "metadata": {},
   "outputs": [
    {
     "name": "stdout",
     "output_type": "stream",
     "text": [
      "<re.Match object; span=(0, 15), match='Haruto Watanabe'>\n",
      "<re.Match object; span=(0, 14), match='Alice Watanabe'>\n",
      "None\n"
     ]
    }
   ],
   "source": [
    "regex = re.compile(r'[A-Z][a-z]*\\sWatanabe')\n",
    "print(re.match(regex, 'Haruto Watanabe'))\n",
    "print(re.match(regex, 'Alice Watanabe'))\n",
    "print(re.match(regex, 'RoboCop Watanabe'))"
   ]
  },
  {
   "cell_type": "markdown",
   "id": "cardiovascular-healthcare",
   "metadata": {},
   "source": [
    "#### 22. How would you write a regex that matches a sentence where the first word is either Alice, Bob, or Carol; the second word is either eats, pets, or throws; the third word is apples, cats, or baseballs; and the sentence ends with a period? This regex should be case-insensitive. It must match the following:\n",
    "\n",
    "- 'Alice eats apples.'\n",
    "- 'Bob pets cats.'\n",
    "- 'Carol throws baseballs.'\n",
    "- 'Alice throws Apples.'\n",
    "- 'BOB EATS CATS.'\n",
    "#### but not the following:\n",
    "- 'RoboCop eats apples.'\n",
    "- 'ALICE THROWS FOOTBALLS.'\n",
    "- 'Carol eats 7 cats.'"
   ]
  },
  {
   "cell_type": "code",
   "execution_count": 46,
   "id": "killing-pacific",
   "metadata": {},
   "outputs": [
    {
     "name": "stdout",
     "output_type": "stream",
     "text": [
      "<re.Match object; span=(0, 18), match='Alice eats apples.'>\n",
      "<re.Match object; span=(0, 14), match='Bob pets cats.'>\n",
      "<re.Match object; span=(0, 23), match='Carol throws baseballs.'>\n",
      "<re.Match object; span=(0, 20), match='Alice throws Apples.'>\n",
      "<re.Match object; span=(0, 14), match='BOB EATS CATS.'>\n",
      "None\n",
      "None\n",
      "None\n"
     ]
    }
   ],
   "source": [
    "regex = re.compile(r'(Alice|Bob|Carol)\\s(eats|pets|throws)\\s(apples|cats|baseballs)\\.', re.IGNORECASE)\n",
    "print(re.match(regex, 'Alice eats apples.'))\n",
    "print(re.match(regex, 'Bob pets cats.'))\n",
    "print(re.match(regex, 'Carol throws baseballs.'))\n",
    "print(re.match(regex, 'Alice throws Apples.'))\n",
    "print(re.match(regex, 'BOB EATS CATS.'))\n",
    "print(re.match(regex, 'RoboCop eats apples.'))\n",
    "print(re.match(regex, 'ALICE THROWS FOOTBALLS.'))\n",
    "print(re.match(regex, 'Carol eats 7 cats.'))"
   ]
  }
 ],
 "metadata": {
  "kernelspec": {
   "display_name": "Python 3",
   "language": "python",
   "name": "python3"
  },
  "language_info": {
   "codemirror_mode": {
    "name": "ipython",
    "version": 3
   },
   "file_extension": ".py",
   "mimetype": "text/x-python",
   "name": "python",
   "nbconvert_exporter": "python",
   "pygments_lexer": "ipython3",
   "version": "3.9.1"
  }
 },
 "nbformat": 4,
 "nbformat_minor": 5
}
