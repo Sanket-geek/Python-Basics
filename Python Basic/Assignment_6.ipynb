{
 "cells": [
  {
   "cell_type": "markdown",
   "id": "organizational-raise",
   "metadata": {},
   "source": [
    "# Python Basic - Assignment 6\n",
    "---"
   ]
  },
  {
   "cell_type": "markdown",
   "id": "moral-trash",
   "metadata": {},
   "source": [
    "#### 1. What are escape characters, and how do you use them?"
   ]
  },
  {
   "cell_type": "code",
   "execution_count": 4,
   "id": "rotary-ensemble",
   "metadata": {},
   "outputs": [],
   "source": [
    "# Escape character is a backslash \"\\\" which are used to insert characters in a python string which in other case will throw an error"
   ]
  },
  {
   "cell_type": "markdown",
   "id": "scientific-remains",
   "metadata": {},
   "source": [
    "#### 2. What do the escape characters n and t stand for?"
   ]
  },
  {
   "cell_type": "code",
   "execution_count": 6,
   "id": "light-corruption",
   "metadata": {},
   "outputs": [
    {
     "name": "stdout",
     "output_type": "stream",
     "text": [
      "First line \n",
      "Second line\n"
     ]
    }
   ],
   "source": [
    "# \\n - New line\n",
    "print(\"First line \\nSecond line\")"
   ]
  },
  {
   "cell_type": "markdown",
   "id": "modern-tender",
   "metadata": {},
   "source": [
    "#### 3. What is the way to include backslash characters in a string?"
   ]
  },
  {
   "cell_type": "code",
   "execution_count": 7,
   "id": "regulation-refund",
   "metadata": {},
   "outputs": [
    {
     "name": "stdout",
     "output_type": "stream",
     "text": [
      "Backslash - \\\n"
     ]
    }
   ],
   "source": [
    "# By using \"\\\\\"\n",
    "print(\"Backslash - \\\\\")"
   ]
  },
  {
   "cell_type": "markdown",
   "id": "optimum-impossible",
   "metadata": {},
   "source": [
    "#### 4. The string \"Howl's Moving Castle\" is a correct value. Why isn't the single quote character in the word Howl's not escaped a problem?"
   ]
  },
  {
   "cell_type": "code",
   "execution_count": null,
   "id": "yellow-investigator",
   "metadata": {},
   "outputs": [],
   "source": []
  },
  {
   "cell_type": "markdown",
   "id": "cloudy-actor",
   "metadata": {},
   "source": [
    "#### 5. How do you write a string of newlines if you don't want to use the n character?"
   ]
  },
  {
   "cell_type": "code",
   "execution_count": 11,
   "id": "crazy-primary",
   "metadata": {},
   "outputs": [
    {
     "name": "stdout",
     "output_type": "stream",
     "text": [
      "\n",
      "First Line\n",
      "Second Line\n",
      "\n"
     ]
    }
   ],
   "source": [
    "# By using ''' '''\n",
    "print('''\n",
    "First Line\n",
    "Second Line\n",
    "''')"
   ]
  },
  {
   "cell_type": "markdown",
   "id": "checked-theta",
   "metadata": {},
   "source": [
    "#### 6. What are the values of the given expressions?\n",
    "'Hello, world!'[1]\n",
    "'Hello, world!'[0:5]\n",
    "'Hello, world!'[:5]\n",
    "'Hello, world![3:]"
   ]
  },
  {
   "cell_type": "code",
   "execution_count": 12,
   "id": "green-youth",
   "metadata": {},
   "outputs": [
    {
     "data": {
      "text/plain": [
       "'e'"
      ]
     },
     "execution_count": 12,
     "metadata": {},
     "output_type": "execute_result"
    }
   ],
   "source": [
    "'Hello, world!'[1]"
   ]
  },
  {
   "cell_type": "code",
   "execution_count": 13,
   "id": "velvet-monday",
   "metadata": {},
   "outputs": [
    {
     "data": {
      "text/plain": [
       "'Hello'"
      ]
     },
     "execution_count": 13,
     "metadata": {},
     "output_type": "execute_result"
    }
   ],
   "source": [
    "'Hello, world!'[0:5]"
   ]
  },
  {
   "cell_type": "code",
   "execution_count": 14,
   "id": "personalized-projector",
   "metadata": {},
   "outputs": [
    {
     "data": {
      "text/plain": [
       "'Hello'"
      ]
     },
     "execution_count": 14,
     "metadata": {},
     "output_type": "execute_result"
    }
   ],
   "source": [
    "'Hello, world!'[:5]"
   ]
  },
  {
   "cell_type": "code",
   "execution_count": 15,
   "id": "handled-microwave",
   "metadata": {},
   "outputs": [
    {
     "data": {
      "text/plain": [
       "'lo, world!'"
      ]
     },
     "execution_count": 15,
     "metadata": {},
     "output_type": "execute_result"
    }
   ],
   "source": [
    "'Hello, world!'[3:]"
   ]
  },
  {
   "cell_type": "markdown",
   "id": "capital-translator",
   "metadata": {},
   "source": [
    "#### 7. What are the values of the following expressions?\n",
    "'Hello'.upper()\n",
    "'Hello'.upper().isupper()\n",
    "'Hello'.upper().lower()"
   ]
  },
  {
   "cell_type": "code",
   "execution_count": 16,
   "id": "occupied-parker",
   "metadata": {},
   "outputs": [
    {
     "data": {
      "text/plain": [
       "'HELLO'"
      ]
     },
     "execution_count": 16,
     "metadata": {},
     "output_type": "execute_result"
    }
   ],
   "source": [
    "'Hello'.upper()"
   ]
  },
  {
   "cell_type": "code",
   "execution_count": 20,
   "id": "corrected-receipt",
   "metadata": {},
   "outputs": [
    {
     "data": {
      "text/plain": [
       "True"
      ]
     },
     "execution_count": 20,
     "metadata": {},
     "output_type": "execute_result"
    }
   ],
   "source": [
    "# This will return a boolean value - True for all uppercase letter and false otherwise\n",
    "'Hello'.upper().isupper()"
   ]
  },
  {
   "cell_type": "code",
   "execution_count": 23,
   "id": "vocational-phrase",
   "metadata": {},
   "outputs": [
    {
     "data": {
      "text/plain": [
       "'hello'"
      ]
     },
     "execution_count": 23,
     "metadata": {},
     "output_type": "execute_result"
    }
   ],
   "source": [
    "# Convert all letters into lower case\n",
    "\"Hello\".upper().lower()"
   ]
  },
  {
   "cell_type": "markdown",
   "id": "naval-royal",
   "metadata": {},
   "source": [
    "#### 8. What are the values of the following expressions?"
   ]
  },
  {
   "cell_type": "code",
   "execution_count": 30,
   "id": "temporal-context",
   "metadata": {},
   "outputs": [
    {
     "data": {
      "text/plain": [
       "['Remember,', 'remember,', 'the', 'fifth', 'of', 'July.']"
      ]
     },
     "execution_count": 30,
     "metadata": {},
     "output_type": "execute_result"
    }
   ],
   "source": [
    "# Slipts the string on empty space and returns a lit\n",
    "'Remember, remember, the fifth of July.'.split()"
   ]
  },
  {
   "cell_type": "code",
   "execution_count": 31,
   "id": "pleased-importance",
   "metadata": {},
   "outputs": [
    {
     "data": {
      "text/plain": [
       "'There-can-only-one.'"
      ]
     },
     "execution_count": 31,
     "metadata": {},
     "output_type": "execute_result"
    }
   ],
   "source": [
    "# split() function return a list. \n",
    "# join() will convert list into string by joining with \"-\"\n",
    "\"-\".join('There can only one.'.split())"
   ]
  },
  {
   "cell_type": "markdown",
   "id": "dutch-pacific",
   "metadata": {},
   "source": [
    "#### 9. What are the methods for right-justifying, left-justifying, and centering a string?"
   ]
  },
  {
   "cell_type": "code",
   "execution_count": 39,
   "id": "olive-footage",
   "metadata": {},
   "outputs": [
    {
     "data": {
      "text/plain": [
       "'###iNeuron'"
      ]
     },
     "execution_count": 39,
     "metadata": {},
     "output_type": "execute_result"
    }
   ],
   "source": [
    "# right-justifying - rjust()\n",
    "sentence = \"iNeuron\"\n",
    "sentence.rjust(10,\"#\")"
   ]
  },
  {
   "cell_type": "code",
   "execution_count": 40,
   "id": "statewide-sleeve",
   "metadata": {},
   "outputs": [
    {
     "data": {
      "text/plain": [
       "'iNeuron###'"
      ]
     },
     "execution_count": 40,
     "metadata": {},
     "output_type": "execute_result"
    }
   ],
   "source": [
    "# left-justifying - ljust()\n",
    "sentence.ljust(10, \"#\")"
   ]
  },
  {
   "cell_type": "code",
   "execution_count": 43,
   "id": "serious-logan",
   "metadata": {},
   "outputs": [
    {
     "data": {
      "text/plain": [
       "'##iNeuron##'"
      ]
     },
     "execution_count": 43,
     "metadata": {},
     "output_type": "execute_result"
    }
   ],
   "source": [
    "# centering - center()\n",
    "sentence.center(11, \"#\")"
   ]
  },
  {
   "cell_type": "markdown",
   "id": "strange-surfing",
   "metadata": {},
   "source": [
    "#### 10. What is the best way to remove whitespace characters from the start or end?"
   ]
  },
  {
   "cell_type": "code",
   "execution_count": 48,
   "id": "massive-carol",
   "metadata": {},
   "outputs": [
    {
     "name": "stdout",
     "output_type": "stream",
     "text": [
      "                iNeuron                 \n"
     ]
    },
    {
     "data": {
      "text/plain": [
       "'iNeuron'"
      ]
     },
     "execution_count": 48,
     "metadata": {},
     "output_type": "execute_result"
    }
   ],
   "source": [
    "# Adding white spaces \n",
    "new_sentence = sentence.center(40)\n",
    "print(new_sentence)\n",
    "\n",
    "# Removing white spaces\n",
    "new_sentence.strip()"
   ]
  }
 ],
 "metadata": {
  "kernelspec": {
   "display_name": "Python 3",
   "language": "python",
   "name": "python3"
  },
  "language_info": {
   "codemirror_mode": {
    "name": "ipython",
    "version": 3
   },
   "file_extension": ".py",
   "mimetype": "text/x-python",
   "name": "python",
   "nbconvert_exporter": "python",
   "pygments_lexer": "ipython3",
   "version": "3.9.1"
  }
 },
 "nbformat": 4,
 "nbformat_minor": 5
}
