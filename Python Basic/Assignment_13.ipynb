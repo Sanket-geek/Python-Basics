{
 "cells": [
  {
   "cell_type": "markdown",
   "id": "rotary-shore",
   "metadata": {},
   "source": [
    "# Python Basic - Assignment 13\n",
    "---"
   ]
  },
  {
   "cell_type": "markdown",
   "id": "governing-examination",
   "metadata": {},
   "source": [
    "#### 1. What advantages do Excel spreadsheets have over CSV spreadsheets?"
   ]
  },
  {
   "cell_type": "code",
   "execution_count": 1,
   "id": "failing-samoa",
   "metadata": {},
   "outputs": [],
   "source": [
    "# Excel spreadsheets can b used to perform operation by using the Excel UI"
   ]
  },
  {
   "cell_type": "markdown",
   "id": "standard-communication",
   "metadata": {},
   "source": [
    "#### 2.What do you pass to csv.reader() and csv.writer() to create reader and writer objects?"
   ]
  },
  {
   "cell_type": "code",
   "execution_count": 7,
   "id": "patent-exhibition",
   "metadata": {},
   "outputs": [],
   "source": [
    "# File objects"
   ]
  },
  {
   "cell_type": "markdown",
   "id": "excellent-february",
   "metadata": {},
   "source": [
    "#### 3. What modes do File objects for reader and writer objects need to be opened in?"
   ]
  },
  {
   "cell_type": "code",
   "execution_count": 8,
   "id": "polyphonic-dance",
   "metadata": {},
   "outputs": [],
   "source": [
    "# mode - 'r' for csv.reader()\n",
    "# mode - 'w' for csv.wirter()"
   ]
  },
  {
   "cell_type": "markdown",
   "id": "bored-clearing",
   "metadata": {},
   "source": [
    "#### 4. What method takes a list argument and writes it to a CSV file?"
   ]
  },
  {
   "cell_type": "code",
   "execution_count": 11,
   "id": "hybrid-fifth",
   "metadata": {},
   "outputs": [],
   "source": [
    "# writerow() method\n",
    "\n",
    "import csv\n",
    "with open('sample.csv', 'w') as file:\n",
    "    writer = csv.writer(file)\n",
    "    writer.writerow(['Line 1'])\n",
    "    writer.writerow(['Line 2'])\n",
    "    writer.writerow(['Line 3'])"
   ]
  },
  {
   "cell_type": "markdown",
   "id": "welcome-kidney",
   "metadata": {},
   "source": [
    "#### 5. What do the keyword arguments delimiter and line terminator do?"
   ]
  },
  {
   "cell_type": "code",
   "execution_count": 12,
   "id": "breathing-family",
   "metadata": {},
   "outputs": [],
   "source": [
    "# delimiter has default argument of comma, which is used to separate strings. Other delimiter are '\\t', '|'\n",
    "# lineterminator has default argument of \"\\n\" which is used of newlines"
   ]
  },
  {
   "cell_type": "markdown",
   "id": "increasing-league",
   "metadata": {},
   "source": [
    "#### 6. What function takes a string of JSON data and returns a Python data structure?"
   ]
  },
  {
   "cell_type": "code",
   "execution_count": null,
   "id": "bizarre-relation",
   "metadata": {},
   "outputs": [],
   "source": [
    "# json.load()"
   ]
  },
  {
   "cell_type": "markdown",
   "id": "organizational-allergy",
   "metadata": {},
   "source": [
    "#### 7. What function takes a Python data structure and returns a string of JSON data?"
   ]
  },
  {
   "cell_type": "code",
   "execution_count": null,
   "id": "handed-oriental",
   "metadata": {},
   "outputs": [],
   "source": [
    "# json.dumps()"
   ]
  }
 ],
 "metadata": {
  "kernelspec": {
   "display_name": "Python 3",
   "language": "python",
   "name": "python3"
  },
  "language_info": {
   "codemirror_mode": {
    "name": "ipython",
    "version": 3
   },
   "file_extension": ".py",
   "mimetype": "text/x-python",
   "name": "python",
   "nbconvert_exporter": "python",
   "pygments_lexer": "ipython3",
   "version": "3.9.1"
  }
 },
 "nbformat": 4,
 "nbformat_minor": 5
}
