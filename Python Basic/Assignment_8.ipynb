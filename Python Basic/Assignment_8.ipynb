{
 "cells": [
  {
   "cell_type": "markdown",
   "id": "studied-interface",
   "metadata": {},
   "source": [
    "# Python Basic - Assignment 8\n",
    "---"
   ]
  },
  {
   "cell_type": "markdown",
   "id": "prescription-graham",
   "metadata": {},
   "source": [
    "#### 1. Is the Python Standard Library included with PyInputPlus?"
   ]
  },
  {
   "cell_type": "code",
   "execution_count": 3,
   "id": "innovative-second",
   "metadata": {},
   "outputs": [],
   "source": [
    "# No. It needs to be install"
   ]
  },
  {
   "cell_type": "markdown",
   "id": "exciting-navigation",
   "metadata": {},
   "source": [
    "#### 2. Why is PyInputPlus commonly imported with import pyinputplus as pyip?"
   ]
  },
  {
   "cell_type": "code",
   "execution_count": 4,
   "id": "applied-equity",
   "metadata": {},
   "outputs": [],
   "source": [
    "# It convinient to use when calling the fuctions in the module"
   ]
  },
  {
   "cell_type": "markdown",
   "id": "involved-wireless",
   "metadata": {},
   "source": [
    "#### 3. How do you distinguish between inputInt() and inputFloat()?"
   ]
  },
  {
   "cell_type": "code",
   "execution_count": 14,
   "id": "hairy-territory",
   "metadata": {},
   "outputs": [
    {
     "name": "stdout",
     "output_type": "stream",
     "text": [
      "Enter a integer: "
     ]
    },
    {
     "name": "stdin",
     "output_type": "stream",
     "text": [
      " 3.2\n"
     ]
    },
    {
     "name": "stdout",
     "output_type": "stream",
     "text": [
      "'3.2' is not an integer.\n",
      "Enter a integer: "
     ]
    },
    {
     "name": "stdin",
     "output_type": "stream",
     "text": [
      " 3\n"
     ]
    }
   ],
   "source": [
    "import pyinputplus as pyip\n",
    "\n",
    "# inputInt will accept only integer value\n",
    "integer = pyip.inputInt(\"Enter a integer: \")"
   ]
  },
  {
   "cell_type": "code",
   "execution_count": 15,
   "id": "downtown-liberty",
   "metadata": {},
   "outputs": [
    {
     "name": "stdout",
     "output_type": "stream",
     "text": [
      "Enter a number: "
     ]
    },
    {
     "name": "stdin",
     "output_type": "stream",
     "text": [
      " 3.3\n"
     ]
    }
   ],
   "source": [
    "# inputInt will accept float and integer value\n",
    "flt = pyip.inputFloat(\"Enter a number: \")"
   ]
  },
  {
   "cell_type": "markdown",
   "id": "liable-champagne",
   "metadata": {},
   "source": [
    "#### 4. Using PyInputPlus, how do you ensure that the user enters a whole number between 0 and 99?"
   ]
  },
  {
   "cell_type": "code",
   "execution_count": 16,
   "id": "occupational-residence",
   "metadata": {},
   "outputs": [
    {
     "name": "stdin",
     "output_type": "stream",
     "text": [
      " 100\n"
     ]
    },
    {
     "name": "stdout",
     "output_type": "stream",
     "text": [
      "Number must be at maximum 99.\n"
     ]
    },
    {
     "name": "stdin",
     "output_type": "stream",
     "text": [
      " -6\n"
     ]
    },
    {
     "name": "stdout",
     "output_type": "stream",
     "text": [
      "Number must be at minimum 0.\n"
     ]
    },
    {
     "name": "stdin",
     "output_type": "stream",
     "text": [
      " 5\n"
     ]
    }
   ],
   "source": [
    "num = pyip.inputInt(min=0, max=99)"
   ]
  },
  {
   "cell_type": "markdown",
   "id": "accessible-kentucky",
   "metadata": {},
   "source": [
    "#### 5. What is transferred to the keyword arguments allowRegexes and blockRegexes?"
   ]
  },
  {
   "cell_type": "code",
   "execution_count": 17,
   "id": "saved-format",
   "metadata": {},
   "outputs": [],
   "source": [
    "# The allowRegexes and blockRegexes keyword arguments take a list of regular expression strings to determine what the PyInputPlus function will accept or reject as valid input."
   ]
  },
  {
   "cell_type": "markdown",
   "id": "naval-manchester",
   "metadata": {},
   "source": [
    "#### 6. If a blank input is entered three times, what does inputStr(limit=3) do?"
   ]
  },
  {
   "cell_type": "code",
   "execution_count": 21,
   "id": "human-musician",
   "metadata": {},
   "outputs": [],
   "source": [
    "# It will raise limitOrTimeoutException"
   ]
  },
  {
   "cell_type": "markdown",
   "id": "bibliographic-heart",
   "metadata": {},
   "source": [
    "#### 7. If blank input is entered three times, what does inputStr(limit=3, default=&#39;hello&#39;) do?"
   ]
  },
  {
   "cell_type": "code",
   "execution_count": 25,
   "id": "proud-saint",
   "metadata": {},
   "outputs": [
    {
     "name": "stdin",
     "output_type": "stream",
     "text": [
      " \n"
     ]
    },
    {
     "name": "stdout",
     "output_type": "stream",
     "text": [
      "Blank values are not allowed.\n"
     ]
    },
    {
     "name": "stdin",
     "output_type": "stream",
     "text": [
      " \n"
     ]
    },
    {
     "name": "stdout",
     "output_type": "stream",
     "text": [
      "Blank values are not allowed.\n"
     ]
    },
    {
     "name": "stdin",
     "output_type": "stream",
     "text": [
      " \n"
     ]
    },
    {
     "name": "stdout",
     "output_type": "stream",
     "text": [
      "Blank values are not allowed.\n"
     ]
    }
   ],
   "source": [
    "# It will assign the default value \"hello\" after reaching the limit\n",
    "i = pyip. inputStr(limit=3, default='hello')"
   ]
  },
  {
   "cell_type": "code",
   "execution_count": 26,
   "id": "native-gauge",
   "metadata": {},
   "outputs": [
    {
     "name": "stdout",
     "output_type": "stream",
     "text": [
      "hello\n"
     ]
    }
   ],
   "source": [
    "print(i)"
   ]
  }
 ],
 "metadata": {
  "kernelspec": {
   "display_name": "Python 3",
   "language": "python",
   "name": "python3"
  },
  "language_info": {
   "codemirror_mode": {
    "name": "ipython",
    "version": 3
   },
   "file_extension": ".py",
   "mimetype": "text/x-python",
   "name": "python",
   "nbconvert_exporter": "python",
   "pygments_lexer": "ipython3",
   "version": "3.9.1"
  }
 },
 "nbformat": 4,
 "nbformat_minor": 5
}
